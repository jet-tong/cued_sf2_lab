{
 "cells": [
  {
   "attachments": {},
   "cell_type": "markdown",
   "metadata": {},
   "source": [
    "# 6. The Laplacian Pyramid"
   ]
  },
  {
   "cell_type": "code",
   "execution_count": 2,
   "metadata": {},
   "outputs": [],
   "source": [
    "%matplotlib widget\n",
    "import warnings\n",
    "import inspect\n",
    "import matplotlib.pyplot as plt\n",
    "import IPython.display\n",
    "import numpy as np\n",
    "from cued_sf2_lab.familiarisation import load_mat_img, plot_image"
   ]
  },
  {
   "attachments": {},
   "cell_type": "markdown",
   "metadata": {},
   "source": [
    "## 6.1 The basic concept"
   ]
  },
  {
   "attachments": {},
   "cell_type": "markdown",
   "metadata": {},
   "source": [
    "<figure id=\"figure-2\">\n",
    "<div style=\"background-color: white\">\n",
    "\n",
    "![](figures/laplacian.svg)</div>\n",
    "    \n",
    "<figcaption style=\"text-align: center\">Figure 2: A typical laplacian pyramid with 2 levels; forward (analysis) part only</figcaption>\n",
    "</figure>"
   ]
  },
  {
   "attachments": {},
   "cell_type": "markdown",
   "metadata": {},
   "source": [
    "The Laplacian pyramid is an energy compaction technique, based on\n",
    "the observation:\n",
    "\n",
    "> For most real-world images, the high-frequency energy is much less than the low-frequency energy.\n",
    "\n",
    "Since the lowpass image is much lower bandwidth than the\n",
    "original image, it can be subsampled (*decimated*) 2:1 in both\n",
    "horizontal and vertical directions, without significant loss of\n",
    "information to give a quarter-size lowpass image.  We have\n",
    "provided a row filter/decimation function, `rowdec(X, h)`, to\n",
    "filter and decimate the rows of a matrix by 2:1."
   ]
  },
  {
   "cell_type": "code",
   "execution_count": 3,
   "metadata": {},
   "outputs": [],
   "source": [
    "from cued_sf2_lab.laplacian_pyramid import rowdec"
   ]
  },
  {
   "attachments": {},
   "cell_type": "markdown",
   "metadata": {},
   "source": [
    "Use this twice\n",
    "(on the image and its transpose) to generate a quarter-size\n",
    "lowpass image `X1` of Lighthouse.  For simplicity use a 3-tap (length 3)\n",
    "filter `h` with coefficients: $\\frac{1}{4} [1\\ 2\\ 1]$."
   ]
  },
  {
   "cell_type": "code",
   "execution_count": 4,
   "metadata": {},
   "outputs": [],
   "source": [
    "X, cmaps_dict = load_mat_img(img='lighthouse.mat', img_info='X', cmap_info={'map', 'map2'})"
   ]
  },
  {
   "cell_type": "code",
   "execution_count": 5,
   "metadata": {},
   "outputs": [],
   "source": [
    "h = 0.25*np.array([1, 2, 1])\n",
    "X1 = ...  # your code here"
   ]
  },
  {
   "attachments": {},
   "cell_type": "markdown",
   "metadata": {},
   "source": [
    "The image `X1` can be interpolated 2:1 in each direction to\n",
    "generate a lowpass image of the original size, which can then be\n",
    "subtracted from the original to yield a full-size highpass image.\n",
    "We have also provided a row interpolation/filter function,\n",
    "`rowint(X, h)`, which doubles the length of each row of the image, by\n",
    "inserting zeros between alternate samples and then lowpass\n",
    "filtering the result with the filter `h`. Note that to undo the decimation\n",
    "performed by `Y = rowdec(X, h)`, this should be called as `Z = rowint(Y, 2*h)`,\n",
    "where a DC gain of 2 is added, as shown in [Figure 2](#figure-2)."
   ]
  },
  {
   "cell_type": "code",
   "execution_count": 6,
   "metadata": {},
   "outputs": [],
   "source": [
    "from cued_sf2_lab.laplacian_pyramid import rowint"
   ]
  },
  {
   "attachments": {},
   "cell_type": "markdown",
   "metadata": {},
   "source": [
    "Apply this twice (as before) to generate\n",
    "a full-size lowpass image, and subtract this from `X` to\n",
    "give a highpass image `Y0`. Display `X1` and `Y0` to see these effects."
   ]
  },
  {
   "cell_type": "code",
   "execution_count": 7,
   "metadata": {},
   "outputs": [],
   "source": [
    "# your code here"
   ]
  },
  {
   "attachments": {},
   "cell_type": "markdown",
   "metadata": {},
   "source": [
    "The highpass images will\n",
    "always have approximately zero mean (since any dc component is\n",
    "removed). Hence for the remainder of this project, we recommend\n",
    "that you also make all lowpass images be approximately zero mean\n",
    "by subtracting 128 from them before you start any processing. This\n",
    "makes the 8-bit pixel values cover the range -128 to 127,\n",
    "instead of 0 to 255. The advantages of having a zero-mean input image are not very obvious here, but they\n",
    "will become clearer as the project progresses. If you use `draw_image` the images will still be displayed correctly."
   ]
  },
  {
   "cell_type": "code",
   "execution_count": 8,
   "metadata": {},
   "outputs": [],
   "source": [
    "X, cmaps_dict = load_mat_img(img='lighthouse.mat', img_info='X', cmap_info={'map', 'map2'})\n",
    "X = X - 128.0"
   ]
  },
  {
   "attachments": {},
   "cell_type": "markdown",
   "metadata": {},
   "source": [
    "Examine the functions ```rowdec``` and ```rowint``` and check that you understand how they work. Decimation is achieved by selecting every second element of a vector using selection indices `i:i+c:2`, and filtering is performed with symmetric extension as in ```convse```, except that we do not bother to calculate the filter outputs that are to be discarded by the decimation process. Interpolation is achieved by loading every second element of a double-size vector using `X2 = np.zeros((r, c2), dtype=X.dtype)`, `X2[:, ::2] = X`. The intermediate samples of the interpolated vector x must be zero before the vector is passed through the interpolation filter."
   ]
  },
  {
   "cell_type": "code",
   "execution_count": 9,
   "metadata": {},
   "outputs": [
    {
     "data": {
      "text/html": [
       "<style>pre { line-height: 125%; }\n",
       "td.linenos .normal { color: inherit; background-color: transparent; padding-left: 5px; padding-right: 5px; }\n",
       "span.linenos { color: inherit; background-color: transparent; padding-left: 5px; padding-right: 5px; }\n",
       "td.linenos .special { color: #000000; background-color: #ffffc0; padding-left: 5px; padding-right: 5px; }\n",
       "span.linenos.special { color: #000000; background-color: #ffffc0; padding-left: 5px; padding-right: 5px; }\n",
       ".output_html .hll { background-color: #ffffcc }\n",
       ".output_html { background: #f8f8f8; }\n",
       ".output_html .c { color: #3D7B7B; font-style: italic } /* Comment */\n",
       ".output_html .err { border: 1px solid #FF0000 } /* Error */\n",
       ".output_html .k { color: #008000; font-weight: bold } /* Keyword */\n",
       ".output_html .o { color: #666666 } /* Operator */\n",
       ".output_html .ch { color: #3D7B7B; font-style: italic } /* Comment.Hashbang */\n",
       ".output_html .cm { color: #3D7B7B; font-style: italic } /* Comment.Multiline */\n",
       ".output_html .cp { color: #9C6500 } /* Comment.Preproc */\n",
       ".output_html .cpf { color: #3D7B7B; font-style: italic } /* Comment.PreprocFile */\n",
       ".output_html .c1 { color: #3D7B7B; font-style: italic } /* Comment.Single */\n",
       ".output_html .cs { color: #3D7B7B; font-style: italic } /* Comment.Special */\n",
       ".output_html .gd { color: #A00000 } /* Generic.Deleted */\n",
       ".output_html .ge { font-style: italic } /* Generic.Emph */\n",
       ".output_html .gr { color: #E40000 } /* Generic.Error */\n",
       ".output_html .gh { color: #000080; font-weight: bold } /* Generic.Heading */\n",
       ".output_html .gi { color: #008400 } /* Generic.Inserted */\n",
       ".output_html .go { color: #717171 } /* Generic.Output */\n",
       ".output_html .gp { color: #000080; font-weight: bold } /* Generic.Prompt */\n",
       ".output_html .gs { font-weight: bold } /* Generic.Strong */\n",
       ".output_html .gu { color: #800080; font-weight: bold } /* Generic.Subheading */\n",
       ".output_html .gt { color: #0044DD } /* Generic.Traceback */\n",
       ".output_html .kc { color: #008000; font-weight: bold } /* Keyword.Constant */\n",
       ".output_html .kd { color: #008000; font-weight: bold } /* Keyword.Declaration */\n",
       ".output_html .kn { color: #008000; font-weight: bold } /* Keyword.Namespace */\n",
       ".output_html .kp { color: #008000 } /* Keyword.Pseudo */\n",
       ".output_html .kr { color: #008000; font-weight: bold } /* Keyword.Reserved */\n",
       ".output_html .kt { color: #B00040 } /* Keyword.Type */\n",
       ".output_html .m { color: #666666 } /* Literal.Number */\n",
       ".output_html .s { color: #BA2121 } /* Literal.String */\n",
       ".output_html .na { color: #687822 } /* Name.Attribute */\n",
       ".output_html .nb { color: #008000 } /* Name.Builtin */\n",
       ".output_html .nc { color: #0000FF; font-weight: bold } /* Name.Class */\n",
       ".output_html .no { color: #880000 } /* Name.Constant */\n",
       ".output_html .nd { color: #AA22FF } /* Name.Decorator */\n",
       ".output_html .ni { color: #717171; font-weight: bold } /* Name.Entity */\n",
       ".output_html .ne { color: #CB3F38; font-weight: bold } /* Name.Exception */\n",
       ".output_html .nf { color: #0000FF } /* Name.Function */\n",
       ".output_html .nl { color: #767600 } /* Name.Label */\n",
       ".output_html .nn { color: #0000FF; font-weight: bold } /* Name.Namespace */\n",
       ".output_html .nt { color: #008000; font-weight: bold } /* Name.Tag */\n",
       ".output_html .nv { color: #19177C } /* Name.Variable */\n",
       ".output_html .ow { color: #AA22FF; font-weight: bold } /* Operator.Word */\n",
       ".output_html .w { color: #bbbbbb } /* Text.Whitespace */\n",
       ".output_html .mb { color: #666666 } /* Literal.Number.Bin */\n",
       ".output_html .mf { color: #666666 } /* Literal.Number.Float */\n",
       ".output_html .mh { color: #666666 } /* Literal.Number.Hex */\n",
       ".output_html .mi { color: #666666 } /* Literal.Number.Integer */\n",
       ".output_html .mo { color: #666666 } /* Literal.Number.Oct */\n",
       ".output_html .sa { color: #BA2121 } /* Literal.String.Affix */\n",
       ".output_html .sb { color: #BA2121 } /* Literal.String.Backtick */\n",
       ".output_html .sc { color: #BA2121 } /* Literal.String.Char */\n",
       ".output_html .dl { color: #BA2121 } /* Literal.String.Delimiter */\n",
       ".output_html .sd { color: #BA2121; font-style: italic } /* Literal.String.Doc */\n",
       ".output_html .s2 { color: #BA2121 } /* Literal.String.Double */\n",
       ".output_html .se { color: #AA5D1F; font-weight: bold } /* Literal.String.Escape */\n",
       ".output_html .sh { color: #BA2121 } /* Literal.String.Heredoc */\n",
       ".output_html .si { color: #A45A77; font-weight: bold } /* Literal.String.Interpol */\n",
       ".output_html .sx { color: #008000 } /* Literal.String.Other */\n",
       ".output_html .sr { color: #A45A77 } /* Literal.String.Regex */\n",
       ".output_html .s1 { color: #BA2121 } /* Literal.String.Single */\n",
       ".output_html .ss { color: #19177C } /* Literal.String.Symbol */\n",
       ".output_html .bp { color: #008000 } /* Name.Builtin.Pseudo */\n",
       ".output_html .fm { color: #0000FF } /* Name.Function.Magic */\n",
       ".output_html .vc { color: #19177C } /* Name.Variable.Class */\n",
       ".output_html .vg { color: #19177C } /* Name.Variable.Global */\n",
       ".output_html .vi { color: #19177C } /* Name.Variable.Instance */\n",
       ".output_html .vm { color: #19177C } /* Name.Variable.Magic */\n",
       ".output_html .il { color: #666666 } /* Literal.Number.Integer.Long */</style><div class=\"highlight\"><pre><span></span><span class=\"k\">def</span> <span class=\"nf\">rowdec</span><span class=\"p\">(</span><span class=\"n\">X</span><span class=\"p\">:</span> <span class=\"n\">np</span><span class=\"o\">.</span><span class=\"n\">ndarray</span><span class=\"p\">,</span> <span class=\"n\">h</span><span class=\"p\">:</span> <span class=\"n\">np</span><span class=\"o\">.</span><span class=\"n\">ndarray</span><span class=\"p\">)</span> <span class=\"o\">-&gt;</span> <span class=\"n\">np</span><span class=\"o\">.</span><span class=\"n\">ndarray</span><span class=\"p\">:</span>\n",
       "<span class=\"w\">    </span><span class=\"sd\">&quot;&quot;&quot;</span>\n",
       "<span class=\"sd\">    Filter rows of image X with h and then decimate by a factor of 2.</span>\n",
       "\n",
       "<span class=\"sd\">    Parameters:</span>\n",
       "<span class=\"sd\">        X: Image matrix (Usually 256x256)</span>\n",
       "<span class=\"sd\">        h: Filter coefficients</span>\n",
       "<span class=\"sd\">    Returns:</span>\n",
       "<span class=\"sd\">        Y: Image with filtered and decimated rows</span>\n",
       "\n",
       "<span class=\"sd\">    If len(H) is odd, each output sample is aligned with the first of</span>\n",
       "<span class=\"sd\">    each pair of input samples.</span>\n",
       "<span class=\"sd\">    If len(H) is even, each output sample is aligned with the mid point</span>\n",
       "<span class=\"sd\">    of each pair of input samples.</span>\n",
       "<span class=\"sd\">    &quot;&quot;&quot;</span>\n",
       "    <span class=\"n\">r</span><span class=\"p\">,</span> <span class=\"n\">c</span> <span class=\"o\">=</span> <span class=\"n\">X</span><span class=\"o\">.</span><span class=\"n\">shape</span>\n",
       "    <span class=\"n\">m</span> <span class=\"o\">=</span> <span class=\"nb\">len</span><span class=\"p\">(</span><span class=\"n\">h</span><span class=\"p\">)</span>\n",
       "    <span class=\"n\">m2</span> <span class=\"o\">=</span> <span class=\"n\">m</span> <span class=\"o\">//</span> <span class=\"mi\">2</span>\n",
       "    <span class=\"k\">if</span> <span class=\"n\">m</span> <span class=\"o\">%</span> <span class=\"mi\">2</span><span class=\"p\">:</span>\n",
       "        <span class=\"n\">X</span> <span class=\"o\">=</span> <span class=\"n\">np</span><span class=\"o\">.</span><span class=\"n\">pad</span><span class=\"p\">(</span><span class=\"n\">X</span><span class=\"p\">,</span> <span class=\"p\">[(</span><span class=\"mi\">0</span><span class=\"p\">,</span> <span class=\"mi\">0</span><span class=\"p\">),</span> <span class=\"p\">(</span><span class=\"n\">m2</span><span class=\"p\">,</span> <span class=\"n\">m2</span><span class=\"p\">)],</span> <span class=\"n\">mode</span><span class=\"o\">=</span><span class=\"s1\">&#39;reflect&#39;</span><span class=\"p\">)</span>\n",
       "    <span class=\"k\">else</span><span class=\"p\">:</span>\n",
       "        <span class=\"n\">X</span> <span class=\"o\">=</span> <span class=\"n\">np</span><span class=\"o\">.</span><span class=\"n\">pad</span><span class=\"p\">(</span><span class=\"n\">X</span><span class=\"p\">,</span> <span class=\"p\">[(</span><span class=\"mi\">0</span><span class=\"p\">,</span> <span class=\"mi\">0</span><span class=\"p\">),</span> <span class=\"p\">(</span><span class=\"n\">m2</span><span class=\"o\">-</span><span class=\"mi\">1</span><span class=\"p\">,</span> <span class=\"n\">m2</span><span class=\"o\">-</span><span class=\"mi\">1</span><span class=\"p\">)],</span> <span class=\"n\">mode</span><span class=\"o\">=</span><span class=\"s1\">&#39;symmetric&#39;</span><span class=\"p\">)</span>\n",
       "\n",
       "    <span class=\"n\">Y</span> <span class=\"o\">=</span> <span class=\"n\">np</span><span class=\"o\">.</span><span class=\"n\">zeros</span><span class=\"p\">((</span><span class=\"n\">r</span><span class=\"p\">,</span> <span class=\"p\">(</span><span class=\"n\">c</span><span class=\"o\">+</span><span class=\"mi\">1</span><span class=\"p\">)</span><span class=\"o\">//</span><span class=\"mi\">2</span><span class=\"p\">))</span>\n",
       "    <span class=\"c1\"># Loop for each term in h.</span>\n",
       "    <span class=\"k\">for</span> <span class=\"n\">i</span> <span class=\"ow\">in</span> <span class=\"nb\">range</span><span class=\"p\">(</span><span class=\"n\">m</span><span class=\"p\">):</span>\n",
       "        <span class=\"n\">Y</span> <span class=\"o\">=</span> <span class=\"n\">Y</span> <span class=\"o\">+</span> <span class=\"n\">h</span><span class=\"p\">[</span><span class=\"n\">i</span><span class=\"p\">]</span> <span class=\"o\">*</span> <span class=\"n\">X</span><span class=\"p\">[:,</span> <span class=\"n\">i</span><span class=\"p\">:</span><span class=\"n\">i</span><span class=\"o\">+</span><span class=\"n\">c</span><span class=\"p\">:</span><span class=\"mi\">2</span><span class=\"p\">]</span>\n",
       "    <span class=\"k\">return</span> <span class=\"n\">Y</span>\n",
       "</pre></div>\n"
      ],
      "text/latex": [
       "\\begin{Verbatim}[commandchars=\\\\\\{\\}]\n",
       "\\PY{k}{def} \\PY{n+nf}{rowdec}\\PY{p}{(}\\PY{n}{X}\\PY{p}{:} \\PY{n}{np}\\PY{o}{.}\\PY{n}{ndarray}\\PY{p}{,} \\PY{n}{h}\\PY{p}{:} \\PY{n}{np}\\PY{o}{.}\\PY{n}{ndarray}\\PY{p}{)} \\PY{o}{\\PYZhy{}}\\PY{o}{\\PYZgt{}} \\PY{n}{np}\\PY{o}{.}\\PY{n}{ndarray}\\PY{p}{:}\n",
       "\\PY{+w}{    }\\PY{l+s+sd}{\\PYZdq{}\\PYZdq{}\\PYZdq{}}\n",
       "\\PY{l+s+sd}{    Filter rows of image X with h and then decimate by a factor of 2.}\n",
       "\n",
       "\\PY{l+s+sd}{    Parameters:}\n",
       "\\PY{l+s+sd}{        X: Image matrix (Usually 256x256)}\n",
       "\\PY{l+s+sd}{        h: Filter coefficients}\n",
       "\\PY{l+s+sd}{    Returns:}\n",
       "\\PY{l+s+sd}{        Y: Image with filtered and decimated rows}\n",
       "\n",
       "\\PY{l+s+sd}{    If len(H) is odd, each output sample is aligned with the first of}\n",
       "\\PY{l+s+sd}{    each pair of input samples.}\n",
       "\\PY{l+s+sd}{    If len(H) is even, each output sample is aligned with the mid point}\n",
       "\\PY{l+s+sd}{    of each pair of input samples.}\n",
       "\\PY{l+s+sd}{    \\PYZdq{}\\PYZdq{}\\PYZdq{}}\n",
       "    \\PY{n}{r}\\PY{p}{,} \\PY{n}{c} \\PY{o}{=} \\PY{n}{X}\\PY{o}{.}\\PY{n}{shape}\n",
       "    \\PY{n}{m} \\PY{o}{=} \\PY{n+nb}{len}\\PY{p}{(}\\PY{n}{h}\\PY{p}{)}\n",
       "    \\PY{n}{m2} \\PY{o}{=} \\PY{n}{m} \\PY{o}{/}\\PY{o}{/} \\PY{l+m+mi}{2}\n",
       "    \\PY{k}{if} \\PY{n}{m} \\PY{o}{\\PYZpc{}} \\PY{l+m+mi}{2}\\PY{p}{:}\n",
       "        \\PY{n}{X} \\PY{o}{=} \\PY{n}{np}\\PY{o}{.}\\PY{n}{pad}\\PY{p}{(}\\PY{n}{X}\\PY{p}{,} \\PY{p}{[}\\PY{p}{(}\\PY{l+m+mi}{0}\\PY{p}{,} \\PY{l+m+mi}{0}\\PY{p}{)}\\PY{p}{,} \\PY{p}{(}\\PY{n}{m2}\\PY{p}{,} \\PY{n}{m2}\\PY{p}{)}\\PY{p}{]}\\PY{p}{,} \\PY{n}{mode}\\PY{o}{=}\\PY{l+s+s1}{\\PYZsq{}}\\PY{l+s+s1}{reflect}\\PY{l+s+s1}{\\PYZsq{}}\\PY{p}{)}\n",
       "    \\PY{k}{else}\\PY{p}{:}\n",
       "        \\PY{n}{X} \\PY{o}{=} \\PY{n}{np}\\PY{o}{.}\\PY{n}{pad}\\PY{p}{(}\\PY{n}{X}\\PY{p}{,} \\PY{p}{[}\\PY{p}{(}\\PY{l+m+mi}{0}\\PY{p}{,} \\PY{l+m+mi}{0}\\PY{p}{)}\\PY{p}{,} \\PY{p}{(}\\PY{n}{m2}\\PY{o}{\\PYZhy{}}\\PY{l+m+mi}{1}\\PY{p}{,} \\PY{n}{m2}\\PY{o}{\\PYZhy{}}\\PY{l+m+mi}{1}\\PY{p}{)}\\PY{p}{]}\\PY{p}{,} \\PY{n}{mode}\\PY{o}{=}\\PY{l+s+s1}{\\PYZsq{}}\\PY{l+s+s1}{symmetric}\\PY{l+s+s1}{\\PYZsq{}}\\PY{p}{)}\n",
       "\n",
       "    \\PY{n}{Y} \\PY{o}{=} \\PY{n}{np}\\PY{o}{.}\\PY{n}{zeros}\\PY{p}{(}\\PY{p}{(}\\PY{n}{r}\\PY{p}{,} \\PY{p}{(}\\PY{n}{c}\\PY{o}{+}\\PY{l+m+mi}{1}\\PY{p}{)}\\PY{o}{/}\\PY{o}{/}\\PY{l+m+mi}{2}\\PY{p}{)}\\PY{p}{)}\n",
       "    \\PY{c+c1}{\\PYZsh{} Loop for each term in h.}\n",
       "    \\PY{k}{for} \\PY{n}{i} \\PY{o+ow}{in} \\PY{n+nb}{range}\\PY{p}{(}\\PY{n}{m}\\PY{p}{)}\\PY{p}{:}\n",
       "        \\PY{n}{Y} \\PY{o}{=} \\PY{n}{Y} \\PY{o}{+} \\PY{n}{h}\\PY{p}{[}\\PY{n}{i}\\PY{p}{]} \\PY{o}{*} \\PY{n}{X}\\PY{p}{[}\\PY{p}{:}\\PY{p}{,} \\PY{n}{i}\\PY{p}{:}\\PY{n}{i}\\PY{o}{+}\\PY{n}{c}\\PY{p}{:}\\PY{l+m+mi}{2}\\PY{p}{]}\n",
       "    \\PY{k}{return} \\PY{n}{Y}\n",
       "\\end{Verbatim}\n"
      ],
      "text/plain": [
       "def rowdec(X: np.ndarray, h: np.ndarray) -> np.ndarray:\n",
       "    \"\"\"\n",
       "    Filter rows of image X with h and then decimate by a factor of 2.\n",
       "\n",
       "    Parameters:\n",
       "        X: Image matrix (Usually 256x256)\n",
       "        h: Filter coefficients\n",
       "    Returns:\n",
       "        Y: Image with filtered and decimated rows\n",
       "\n",
       "    If len(H) is odd, each output sample is aligned with the first of\n",
       "    each pair of input samples.\n",
       "    If len(H) is even, each output sample is aligned with the mid point\n",
       "    of each pair of input samples.\n",
       "    \"\"\"\n",
       "    r, c = X.shape\n",
       "    m = len(h)\n",
       "    m2 = m // 2\n",
       "    if m % 2:\n",
       "        X = np.pad(X, [(0, 0), (m2, m2)], mode='reflect')\n",
       "    else:\n",
       "        X = np.pad(X, [(0, 0), (m2-1, m2-1)], mode='symmetric')\n",
       "\n",
       "    Y = np.zeros((r, (c+1)//2))\n",
       "    # Loop for each term in h.\n",
       "    for i in range(m):\n",
       "        Y = Y + h[i] * X[:, i:i+c:2]\n",
       "    return Y"
      ]
     },
     "execution_count": 9,
     "metadata": {},
     "output_type": "execute_result"
    }
   ],
   "source": [
    "IPython.display.Code(inspect.getsource(rowdec), language=\"python\")"
   ]
  },
  {
   "cell_type": "code",
   "execution_count": 10,
   "metadata": {},
   "outputs": [
    {
     "data": {
      "text/html": [
       "<style>pre { line-height: 125%; }\n",
       "td.linenos .normal { color: inherit; background-color: transparent; padding-left: 5px; padding-right: 5px; }\n",
       "span.linenos { color: inherit; background-color: transparent; padding-left: 5px; padding-right: 5px; }\n",
       "td.linenos .special { color: #000000; background-color: #ffffc0; padding-left: 5px; padding-right: 5px; }\n",
       "span.linenos.special { color: #000000; background-color: #ffffc0; padding-left: 5px; padding-right: 5px; }\n",
       ".output_html .hll { background-color: #ffffcc }\n",
       ".output_html { background: #f8f8f8; }\n",
       ".output_html .c { color: #3D7B7B; font-style: italic } /* Comment */\n",
       ".output_html .err { border: 1px solid #FF0000 } /* Error */\n",
       ".output_html .k { color: #008000; font-weight: bold } /* Keyword */\n",
       ".output_html .o { color: #666666 } /* Operator */\n",
       ".output_html .ch { color: #3D7B7B; font-style: italic } /* Comment.Hashbang */\n",
       ".output_html .cm { color: #3D7B7B; font-style: italic } /* Comment.Multiline */\n",
       ".output_html .cp { color: #9C6500 } /* Comment.Preproc */\n",
       ".output_html .cpf { color: #3D7B7B; font-style: italic } /* Comment.PreprocFile */\n",
       ".output_html .c1 { color: #3D7B7B; font-style: italic } /* Comment.Single */\n",
       ".output_html .cs { color: #3D7B7B; font-style: italic } /* Comment.Special */\n",
       ".output_html .gd { color: #A00000 } /* Generic.Deleted */\n",
       ".output_html .ge { font-style: italic } /* Generic.Emph */\n",
       ".output_html .gr { color: #E40000 } /* Generic.Error */\n",
       ".output_html .gh { color: #000080; font-weight: bold } /* Generic.Heading */\n",
       ".output_html .gi { color: #008400 } /* Generic.Inserted */\n",
       ".output_html .go { color: #717171 } /* Generic.Output */\n",
       ".output_html .gp { color: #000080; font-weight: bold } /* Generic.Prompt */\n",
       ".output_html .gs { font-weight: bold } /* Generic.Strong */\n",
       ".output_html .gu { color: #800080; font-weight: bold } /* Generic.Subheading */\n",
       ".output_html .gt { color: #0044DD } /* Generic.Traceback */\n",
       ".output_html .kc { color: #008000; font-weight: bold } /* Keyword.Constant */\n",
       ".output_html .kd { color: #008000; font-weight: bold } /* Keyword.Declaration */\n",
       ".output_html .kn { color: #008000; font-weight: bold } /* Keyword.Namespace */\n",
       ".output_html .kp { color: #008000 } /* Keyword.Pseudo */\n",
       ".output_html .kr { color: #008000; font-weight: bold } /* Keyword.Reserved */\n",
       ".output_html .kt { color: #B00040 } /* Keyword.Type */\n",
       ".output_html .m { color: #666666 } /* Literal.Number */\n",
       ".output_html .s { color: #BA2121 } /* Literal.String */\n",
       ".output_html .na { color: #687822 } /* Name.Attribute */\n",
       ".output_html .nb { color: #008000 } /* Name.Builtin */\n",
       ".output_html .nc { color: #0000FF; font-weight: bold } /* Name.Class */\n",
       ".output_html .no { color: #880000 } /* Name.Constant */\n",
       ".output_html .nd { color: #AA22FF } /* Name.Decorator */\n",
       ".output_html .ni { color: #717171; font-weight: bold } /* Name.Entity */\n",
       ".output_html .ne { color: #CB3F38; font-weight: bold } /* Name.Exception */\n",
       ".output_html .nf { color: #0000FF } /* Name.Function */\n",
       ".output_html .nl { color: #767600 } /* Name.Label */\n",
       ".output_html .nn { color: #0000FF; font-weight: bold } /* Name.Namespace */\n",
       ".output_html .nt { color: #008000; font-weight: bold } /* Name.Tag */\n",
       ".output_html .nv { color: #19177C } /* Name.Variable */\n",
       ".output_html .ow { color: #AA22FF; font-weight: bold } /* Operator.Word */\n",
       ".output_html .w { color: #bbbbbb } /* Text.Whitespace */\n",
       ".output_html .mb { color: #666666 } /* Literal.Number.Bin */\n",
       ".output_html .mf { color: #666666 } /* Literal.Number.Float */\n",
       ".output_html .mh { color: #666666 } /* Literal.Number.Hex */\n",
       ".output_html .mi { color: #666666 } /* Literal.Number.Integer */\n",
       ".output_html .mo { color: #666666 } /* Literal.Number.Oct */\n",
       ".output_html .sa { color: #BA2121 } /* Literal.String.Affix */\n",
       ".output_html .sb { color: #BA2121 } /* Literal.String.Backtick */\n",
       ".output_html .sc { color: #BA2121 } /* Literal.String.Char */\n",
       ".output_html .dl { color: #BA2121 } /* Literal.String.Delimiter */\n",
       ".output_html .sd { color: #BA2121; font-style: italic } /* Literal.String.Doc */\n",
       ".output_html .s2 { color: #BA2121 } /* Literal.String.Double */\n",
       ".output_html .se { color: #AA5D1F; font-weight: bold } /* Literal.String.Escape */\n",
       ".output_html .sh { color: #BA2121 } /* Literal.String.Heredoc */\n",
       ".output_html .si { color: #A45A77; font-weight: bold } /* Literal.String.Interpol */\n",
       ".output_html .sx { color: #008000 } /* Literal.String.Other */\n",
       ".output_html .sr { color: #A45A77 } /* Literal.String.Regex */\n",
       ".output_html .s1 { color: #BA2121 } /* Literal.String.Single */\n",
       ".output_html .ss { color: #19177C } /* Literal.String.Symbol */\n",
       ".output_html .bp { color: #008000 } /* Name.Builtin.Pseudo */\n",
       ".output_html .fm { color: #0000FF } /* Name.Function.Magic */\n",
       ".output_html .vc { color: #19177C } /* Name.Variable.Class */\n",
       ".output_html .vg { color: #19177C } /* Name.Variable.Global */\n",
       ".output_html .vi { color: #19177C } /* Name.Variable.Instance */\n",
       ".output_html .vm { color: #19177C } /* Name.Variable.Magic */\n",
       ".output_html .il { color: #666666 } /* Literal.Number.Integer.Long */</style><div class=\"highlight\"><pre><span></span><span class=\"k\">def</span> <span class=\"nf\">rowint</span><span class=\"p\">(</span><span class=\"n\">X</span><span class=\"p\">:</span> <span class=\"n\">np</span><span class=\"o\">.</span><span class=\"n\">ndarray</span><span class=\"p\">,</span> <span class=\"n\">h</span><span class=\"p\">:</span> <span class=\"n\">np</span><span class=\"o\">.</span><span class=\"n\">ndarray</span><span class=\"p\">)</span> <span class=\"o\">-&gt;</span> <span class=\"n\">np</span><span class=\"o\">.</span><span class=\"n\">ndarray</span><span class=\"p\">:</span>\n",
       "<span class=\"w\">    </span><span class=\"sd\">&quot;&quot;&quot;</span>\n",
       "<span class=\"sd\">    Interpolates the rows of image X by 2 using h.</span>\n",
       "\n",
       "<span class=\"sd\">    Parameters:</span>\n",
       "<span class=\"sd\">        X: Image matrix (Usually 256x256)</span>\n",
       "<span class=\"sd\">        h: Filter coefficients</span>\n",
       "<span class=\"sd\">    Returns:</span>\n",
       "<span class=\"sd\">        Y: Image with interpolated rows</span>\n",
       "\n",
       "<span class=\"sd\">    If len(h) is odd, each input sample is aligned with the first of</span>\n",
       "<span class=\"sd\">    each pair of output samples.</span>\n",
       "<span class=\"sd\">    If len(h) is even, each input sample is aligned with the mid point</span>\n",
       "<span class=\"sd\">    of each pair of output samples.</span>\n",
       "<span class=\"sd\">    &quot;&quot;&quot;</span>\n",
       "    <span class=\"n\">r</span><span class=\"p\">,</span> <span class=\"n\">c</span> <span class=\"o\">=</span> <span class=\"n\">X</span><span class=\"o\">.</span><span class=\"n\">shape</span>\n",
       "    <span class=\"n\">m</span> <span class=\"o\">=</span> <span class=\"nb\">len</span><span class=\"p\">(</span><span class=\"n\">h</span><span class=\"p\">)</span>\n",
       "    <span class=\"n\">m2</span> <span class=\"o\">=</span> <span class=\"n\">m</span> <span class=\"o\">//</span> <span class=\"mi\">2</span>\n",
       "    <span class=\"n\">c2</span> <span class=\"o\">=</span> <span class=\"mi\">2</span> <span class=\"o\">*</span> <span class=\"n\">c</span>\n",
       "\n",
       "    <span class=\"c1\"># Generate X2 as X interleaved with columns of zeros.</span>\n",
       "    <span class=\"n\">X2</span> <span class=\"o\">=</span> <span class=\"n\">np</span><span class=\"o\">.</span><span class=\"n\">zeros</span><span class=\"p\">((</span><span class=\"n\">r</span><span class=\"p\">,</span> <span class=\"n\">c2</span><span class=\"p\">),</span> <span class=\"n\">dtype</span><span class=\"o\">=</span><span class=\"n\">X</span><span class=\"o\">.</span><span class=\"n\">dtype</span><span class=\"p\">)</span>\n",
       "    <span class=\"n\">X2</span><span class=\"p\">[:,</span> <span class=\"p\">::</span><span class=\"mi\">2</span><span class=\"p\">]</span> <span class=\"o\">=</span> <span class=\"n\">X</span>\n",
       "\n",
       "    <span class=\"n\">X2</span> <span class=\"o\">=</span> <span class=\"n\">np</span><span class=\"o\">.</span><span class=\"n\">pad</span><span class=\"p\">(</span><span class=\"n\">X2</span><span class=\"p\">,</span> <span class=\"p\">[(</span><span class=\"mi\">0</span><span class=\"p\">,</span> <span class=\"mi\">0</span><span class=\"p\">),</span> <span class=\"p\">(</span><span class=\"n\">m2</span><span class=\"p\">,</span> <span class=\"n\">m2</span><span class=\"p\">)],</span> <span class=\"n\">mode</span><span class=\"o\">=</span><span class=\"s1\">&#39;reflect&#39;</span> <span class=\"k\">if</span> <span class=\"n\">m</span> <span class=\"o\">%</span> <span class=\"mi\">2</span> <span class=\"k\">else</span> <span class=\"s1\">&#39;symmetric&#39;</span><span class=\"p\">)</span>\n",
       "\n",
       "    <span class=\"n\">Y</span> <span class=\"o\">=</span> <span class=\"n\">np</span><span class=\"o\">.</span><span class=\"n\">zeros</span><span class=\"p\">((</span><span class=\"n\">r</span><span class=\"p\">,</span> <span class=\"n\">c2</span><span class=\"p\">))</span>\n",
       "    <span class=\"c1\"># Loop for each term in h.</span>\n",
       "    <span class=\"k\">for</span> <span class=\"n\">i</span> <span class=\"ow\">in</span> <span class=\"nb\">range</span><span class=\"p\">(</span><span class=\"n\">m</span><span class=\"p\">):</span>\n",
       "        <span class=\"n\">Y</span> <span class=\"o\">=</span> <span class=\"n\">Y</span> <span class=\"o\">+</span> <span class=\"n\">h</span><span class=\"p\">[</span><span class=\"n\">i</span><span class=\"p\">]</span> <span class=\"o\">*</span> <span class=\"n\">X2</span><span class=\"p\">[:,</span> <span class=\"n\">i</span><span class=\"p\">:</span><span class=\"n\">i</span><span class=\"o\">+</span><span class=\"n\">c2</span><span class=\"p\">]</span>\n",
       "    <span class=\"k\">return</span> <span class=\"n\">Y</span>\n",
       "</pre></div>\n"
      ],
      "text/latex": [
       "\\begin{Verbatim}[commandchars=\\\\\\{\\}]\n",
       "\\PY{k}{def} \\PY{n+nf}{rowint}\\PY{p}{(}\\PY{n}{X}\\PY{p}{:} \\PY{n}{np}\\PY{o}{.}\\PY{n}{ndarray}\\PY{p}{,} \\PY{n}{h}\\PY{p}{:} \\PY{n}{np}\\PY{o}{.}\\PY{n}{ndarray}\\PY{p}{)} \\PY{o}{\\PYZhy{}}\\PY{o}{\\PYZgt{}} \\PY{n}{np}\\PY{o}{.}\\PY{n}{ndarray}\\PY{p}{:}\n",
       "\\PY{+w}{    }\\PY{l+s+sd}{\\PYZdq{}\\PYZdq{}\\PYZdq{}}\n",
       "\\PY{l+s+sd}{    Interpolates the rows of image X by 2 using h.}\n",
       "\n",
       "\\PY{l+s+sd}{    Parameters:}\n",
       "\\PY{l+s+sd}{        X: Image matrix (Usually 256x256)}\n",
       "\\PY{l+s+sd}{        h: Filter coefficients}\n",
       "\\PY{l+s+sd}{    Returns:}\n",
       "\\PY{l+s+sd}{        Y: Image with interpolated rows}\n",
       "\n",
       "\\PY{l+s+sd}{    If len(h) is odd, each input sample is aligned with the first of}\n",
       "\\PY{l+s+sd}{    each pair of output samples.}\n",
       "\\PY{l+s+sd}{    If len(h) is even, each input sample is aligned with the mid point}\n",
       "\\PY{l+s+sd}{    of each pair of output samples.}\n",
       "\\PY{l+s+sd}{    \\PYZdq{}\\PYZdq{}\\PYZdq{}}\n",
       "    \\PY{n}{r}\\PY{p}{,} \\PY{n}{c} \\PY{o}{=} \\PY{n}{X}\\PY{o}{.}\\PY{n}{shape}\n",
       "    \\PY{n}{m} \\PY{o}{=} \\PY{n+nb}{len}\\PY{p}{(}\\PY{n}{h}\\PY{p}{)}\n",
       "    \\PY{n}{m2} \\PY{o}{=} \\PY{n}{m} \\PY{o}{/}\\PY{o}{/} \\PY{l+m+mi}{2}\n",
       "    \\PY{n}{c2} \\PY{o}{=} \\PY{l+m+mi}{2} \\PY{o}{*} \\PY{n}{c}\n",
       "\n",
       "    \\PY{c+c1}{\\PYZsh{} Generate X2 as X interleaved with columns of zeros.}\n",
       "    \\PY{n}{X2} \\PY{o}{=} \\PY{n}{np}\\PY{o}{.}\\PY{n}{zeros}\\PY{p}{(}\\PY{p}{(}\\PY{n}{r}\\PY{p}{,} \\PY{n}{c2}\\PY{p}{)}\\PY{p}{,} \\PY{n}{dtype}\\PY{o}{=}\\PY{n}{X}\\PY{o}{.}\\PY{n}{dtype}\\PY{p}{)}\n",
       "    \\PY{n}{X2}\\PY{p}{[}\\PY{p}{:}\\PY{p}{,} \\PY{p}{:}\\PY{p}{:}\\PY{l+m+mi}{2}\\PY{p}{]} \\PY{o}{=} \\PY{n}{X}\n",
       "\n",
       "    \\PY{n}{X2} \\PY{o}{=} \\PY{n}{np}\\PY{o}{.}\\PY{n}{pad}\\PY{p}{(}\\PY{n}{X2}\\PY{p}{,} \\PY{p}{[}\\PY{p}{(}\\PY{l+m+mi}{0}\\PY{p}{,} \\PY{l+m+mi}{0}\\PY{p}{)}\\PY{p}{,} \\PY{p}{(}\\PY{n}{m2}\\PY{p}{,} \\PY{n}{m2}\\PY{p}{)}\\PY{p}{]}\\PY{p}{,} \\PY{n}{mode}\\PY{o}{=}\\PY{l+s+s1}{\\PYZsq{}}\\PY{l+s+s1}{reflect}\\PY{l+s+s1}{\\PYZsq{}} \\PY{k}{if} \\PY{n}{m} \\PY{o}{\\PYZpc{}} \\PY{l+m+mi}{2} \\PY{k}{else} \\PY{l+s+s1}{\\PYZsq{}}\\PY{l+s+s1}{symmetric}\\PY{l+s+s1}{\\PYZsq{}}\\PY{p}{)}\n",
       "\n",
       "    \\PY{n}{Y} \\PY{o}{=} \\PY{n}{np}\\PY{o}{.}\\PY{n}{zeros}\\PY{p}{(}\\PY{p}{(}\\PY{n}{r}\\PY{p}{,} \\PY{n}{c2}\\PY{p}{)}\\PY{p}{)}\n",
       "    \\PY{c+c1}{\\PYZsh{} Loop for each term in h.}\n",
       "    \\PY{k}{for} \\PY{n}{i} \\PY{o+ow}{in} \\PY{n+nb}{range}\\PY{p}{(}\\PY{n}{m}\\PY{p}{)}\\PY{p}{:}\n",
       "        \\PY{n}{Y} \\PY{o}{=} \\PY{n}{Y} \\PY{o}{+} \\PY{n}{h}\\PY{p}{[}\\PY{n}{i}\\PY{p}{]} \\PY{o}{*} \\PY{n}{X2}\\PY{p}{[}\\PY{p}{:}\\PY{p}{,} \\PY{n}{i}\\PY{p}{:}\\PY{n}{i}\\PY{o}{+}\\PY{n}{c2}\\PY{p}{]}\n",
       "    \\PY{k}{return} \\PY{n}{Y}\n",
       "\\end{Verbatim}\n"
      ],
      "text/plain": [
       "def rowint(X: np.ndarray, h: np.ndarray) -> np.ndarray:\n",
       "    \"\"\"\n",
       "    Interpolates the rows of image X by 2 using h.\n",
       "\n",
       "    Parameters:\n",
       "        X: Image matrix (Usually 256x256)\n",
       "        h: Filter coefficients\n",
       "    Returns:\n",
       "        Y: Image with interpolated rows\n",
       "\n",
       "    If len(h) is odd, each input sample is aligned with the first of\n",
       "    each pair of output samples.\n",
       "    If len(h) is even, each input sample is aligned with the mid point\n",
       "    of each pair of output samples.\n",
       "    \"\"\"\n",
       "    r, c = X.shape\n",
       "    m = len(h)\n",
       "    m2 = m // 2\n",
       "    c2 = 2 * c\n",
       "\n",
       "    # Generate X2 as X interleaved with columns of zeros.\n",
       "    X2 = np.zeros((r, c2), dtype=X.dtype)\n",
       "    X2[:, ::2] = X\n",
       "\n",
       "    X2 = np.pad(X2, [(0, 0), (m2, m2)], mode='reflect' if m % 2 else 'symmetric')\n",
       "\n",
       "    Y = np.zeros((r, c2))\n",
       "    # Loop for each term in h.\n",
       "    for i in range(m):\n",
       "        Y = Y + h[i] * X2[:, i:i+c2]\n",
       "    return Y"
      ]
     },
     "execution_count": 10,
     "metadata": {},
     "output_type": "execute_result"
    }
   ],
   "source": [
    "IPython.display.Code(inspect.getsource(rowint), language=\"python\")"
   ]
  },
  {
   "attachments": {},
   "cell_type": "markdown",
   "metadata": {},
   "source": [
    "If the small lowpass image `X1` and the full-size highpass image `Y0`\n",
    "are transmitted to a distant decoder, then the decoder can exactly reconstruct\n",
    "the original image by interpolating `X1` up to full size and adding in\n",
    "`Y0` (which represents the error between the original and the interpolated\n",
    "`X1`).  We have achieved image compression if `X1` and `Y0` can be\n",
    "transmitted with fewer bits than `X`.  Usually this will be the case\n",
    "because `Y0` contains so much less energy than `X`, and `X1` is\n",
    "only one quarter of the size of `X`.  However we do start at a\n",
    "disadvantage because there are 25% more samples to code.  Many of the `Y0` samples may be represented by zero, and we shall show later that runs of\n",
    "zeros may be coded with relatively few bits.\n",
    "\n",
    "The quarter-size lowpass image `X1` may be further subsampled, using the\n",
    "same process as was applied to `X`, so that it may be transmitted as a\n",
    "one-sixteenth-size lowpass image `X2` and a quarter-size highpass image\n",
    "`Y1`.  This usually achieves further data compression and may be repeated\n",
    "as many times as is desired (until, for typical images, no further compression\n",
    "is achieved).  This leads to a pyramid of highpass images and a final tiny\n",
    "lowpass image.  Usually three or four layers of the pyramid are sufficient to\n",
    "give maximum compression.\n",
    "\n",
    "Write a `py4enc(X, h)` function to generate a 4-layer pyramid, so that `X` is split into four\n",
    "highpass images, `Y0 Y1 Y2 Y3`, each a quarter of the size of its predecessor, plus a tiny\n",
    "lowpass image `X4`, which is a quarter of the size of `Y3`."
   ]
  },
  {
   "cell_type": "code",
   "execution_count": 12,
   "metadata": {},
   "outputs": [],
   "source": [
    "def py4enc(X, h):\n",
    "    # your code here\n",
    "    warnings.warn(\"you need to write this!\")\n",
    "    \n",
    "    # remove these lines when implementing your code - they are here to show you what shape the plots below should be\n",
    "    Y0 = np.full(X.shape, np.nan)\n",
    "    Y1 = np.full(X.shape >> np.int_(1), np.nan)\n",
    "    Y2 = np.full(X.shape >> np.int_(2), np.nan)\n",
    "    Y3 = np.full(X.shape >> np.int_(3), np.nan)\n",
    "    X4 = np.full(X.shape >> np.int_(4), np.nan)\n",
    "\n",
    "    return Y0, Y1, Y2, Y3, X4"
   ]
  },
  {
   "attachments": {},
   "cell_type": "markdown",
   "metadata": {},
   "source": [
    "We can then plot the results to check them using the `beside` helper function:"
   ]
  },
  {
   "cell_type": "code",
   "execution_count": 13,
   "metadata": {},
   "outputs": [],
   "source": [
    "from cued_sf2_lab.laplacian_pyramid import beside"
   ]
  },
  {
   "cell_type": "code",
   "execution_count": 14,
   "metadata": {},
   "outputs": [
    {
     "name": "stderr",
     "output_type": "stream",
     "text": [
      "/tmp/ipykernel_21447/2116821797.py:3: UserWarning: you need to write this!\n",
      "  warnings.warn(\"you need to write this!\")\n"
     ]
    },
    {
     "data": {
      "application/vnd.jupyter.widget-view+json": {
       "model_id": "dad1dd49755f4e1380df4bb4c1222b25",
       "version_major": 2,
       "version_minor": 0
      },
      "image/png": "[encoded data removed]",
      "text/html": [
       "\n",
       "            <div style=\"display: inline-block;\">\n",
       "                <div class=\"jupyter-widgets widget-label\" style=\"text-align: center;\">\n",
       "                    Figure\n",
       "                </div>\n",
       "                <img src='data:image/png;base64,iVBORw0KGgoAAAANSUhEUgAAAyAAAAGQCAYAAABWJQQ0AAAAOXRFWHRTb2Z0d2FyZQBNYXRwbG90bGliIHZlcnNpb24zLjcuMSwgaHR0cHM6Ly9tYXRwbG90bGliLm9yZy/bCgiHAAAACXBIWXMAAA9hAAAPYQGoP6dpAAAvjUlEQVR4nO3de1zUdb7H8fcgMIIxoyCkpGCbBZKXOmou6ZquBnrwQu6ubR2Vys21Q1ra8RiVlbkrXey6x+y2m5VdXDfx0gXTFK2zpih61CzUNDXxkkebQUxE5nv+6OE8dhY06TDfEXw9H4/fH/P9fefL5/t7DMzvze/mMMYYAQAAAIAFYaEuAAAAAMCFgwACAAAAwBoCCAAAAABrCCAAAAAArCGAAAAAALCGAAIAAADAGgIIAAAAAGsIIAAAAACsIYAAAAAAsIYAAgAAAMAaAggAAAAAawggAAAAAKwhgAAAAACwhgACAAAAwBoCCAAAAABrCCAAAAAArCGAAAAAALCGAAIAAADAGgIIAAAAAGsIIAAAAACsIYAAAAAAsIYAAgAAAMAaAggAAAAAawggAAAAAKwhgAAAAACwhgACAAAAwBoCCAAAAABrCCAAAAAArCGAAAAAALCGAAIAAADAGgIIAAAAAGsIIAAAAACsIYAAAAAAsIYAAgAAAMAaAggAAAAAawggAAAAAKwhgAAAAACwhgACAAAAwBoCCAAAAABrCCAAAAAArCGAAAAAALCGAAIAAADAGgIIAAAAAGsIICEyc+ZMtWvXTk2bNlWPHj20du3aUJcEAAAABB0BJATmzp2riRMn6qGHHlJJSYm6dOmizMxMHTp0KNSlAQAAAEHlMMaYUBdxoenRo4e6d++u//qv/5Ik+Xw+tW3bVuPGjdO9994b4uoAAACA4AkPdQEXmpMnT2r9+vXKy8vzt4WFhal///5avXp1jf6VlZWqrKz0v/b5fDpy5Iji4uLkcDis1AwAAHAhMMaovLxciYmJCgvjRKFgIYBYdvjwYVVXV+viiy8OaL/44ov15Zdf1uifn5+vqVOn2ioPAADggrd37161adMm1GU0WgSQ81xeXp4mTpzof+3xeJSUlKS9e/fK5XKFsDIAqB9utzvUJQBAgJiYmFCX0KgRQCxr2bKlmjRpooMHDwa0Hzx4UK1atarR3+l0yul01mh3uVwEEAAAgCDgNPfg4uQ2yyIjI9W1a1d9/PHH/jafz6ePP/5Y6enpIawMAAAACD6OgITAxIkTlZOTo27duumaa67RM888o4qKCt16662hLg0AAAAIKgJICNx444369ttv9eCDD+rAgQO66qqrVFhYWOPCdAAAAKCx4TkgDYzX65Xb7ZbH4+EaEACNAudaAzjfsJ8VXFwDAgAAAMAaAggAAAAAawggAAAAAKwhgAAAAACwhgACAAAAwBoCCAAAAABrCCAAAAAArCGAAAAAALCGAAIAAADAGgIIAAAAAGsIIAAAAACsIYAAAAAAsIYAAgAAAMAaAggAAAAAawggAAAAAKwhgAAAAACwhgACAAAAwBoCCAAAAABrCCAAAAAArCGAAAAAALCGAAIAAADAGgIIAAAAAGsIIAAAAACsIYAAAAAAsIYAAgAAAMAaAggAAAAAawggAAAAAKwhgNSjWbNmqXPnznK5XHK5XEpPT9eHH34oSTpy5IjGjRunlJQURUVFKSkpSePHj5fH4wlx1QAAAIA94aEuoDFp06aNHn30UV1++eUyxui1117T0KFDtWHDBhljVFZWphkzZigtLU27d+/W2LFjVVZWpr/97W+hLh0AAACwwmGMMaEuojGLjY3VE088odGjR9dYN2/ePI0YMUIVFRUKDz+3LOj1euV2u+XxeORyueq7XACwzuFwhLoEAAjAflZwcQQkSKqrqzVv3jxVVFQoPT291j6nP9znGj4AAACAho4933q2efNmpaen68SJE7roootUUFCgtLS0Gv0OHz6sadOmacyYMWcdr7KyUpWVlf7XXq+33msGAAAAbOEi9HqWkpKijRs3as2aNbrjjjuUk5OjrVu3BvTxer3KyspSWlqaHn744bOOl5+fL7fb7V/atm0bxOoBAACA4OIakCDr37+/LrvsMr344ouSpPLycmVmZio6OlrvvfeemjZtetb313YEpG3btpybCKDR4BoQAOcb9rOCi1Owgszn8/kDhNfrVWZmppxOpxYtWvSj4UOSnE6nnE5nsMsEAAAArCCA1KO8vDwNHDhQSUlJKi8v11tvvaWioiItWbJEXq9XGRkZOn78uObMmSOv1+u/niM+Pl5NmjQJcfUAAABA8BFA6tGhQ4c0atQo7d+/X263W507d9aSJUt0/fXXq6ioSGvWrJEktW/fPuB9u3btUrt27UJQMQAAAGAX14A0MDwHBEBjwzUgAM437GcFF3fBAgAAAGANAQQAAACANQQQAAAAANYQQAAAAABYQwABAAAAYA0BBAAAAIA1BBAAAAAA1hBAAAAAAFhDAAEAAABgDQEEAAAAgDUEEAAAAADWEEAAAAAAWEMAAQAAAGANAQQAAACANQQQAAAAANYQQAAAAABYQwABAAAAYA0BBAAAAIA1BBAAAAAA1hBAAAAAAFhDAAEAAABgDQEEAAAAgDUEEAAAAADWEEAAAAAAWEMAAQAAAGANAQQAAACANQQQAAAAANYQQOrZvn37NGLECMXFxSkqKkqdOnXSunXrau07duxYORwOPfPMM3aLBAAAAEIkPNQFNCZHjx5Vz5491bdvX3344YeKj4/X9u3b1aJFixp9CwoK9NlnnykxMTEElQIAAAChQQCpR4899pjatm2rV1991d926aWX1ui3b98+jRs3TkuWLFFWVpbNEgEAAICQ4hSserRo0SJ169ZNv/nNb5SQkKCrr75aL7/8ckAfn8+nkSNHatKkSbryyitDVCkAAAAQGhwBqUc7d+7UrFmzNHHiRN13330qLi7W+PHjFRkZqZycHEk/HCUJDw/X+PHjz2nMyspKVVZW+l97vd6g1A4AoWKMCXUJuEA4HI5QlwBABJB65fP51K1bN02fPl2SdPXVV2vLli164YUXlJOTo/Xr1+vZZ59VSUnJOf8RzM/P19SpU4NZNgAAAGANp2DVo9atWystLS2grUOHDtqzZ48k6ZNPPtGhQ4eUlJSk8PBwhYeHa/fu3brnnnvUrl27WsfMy8uTx+PxL3v37g32NAAAAICg4QhIPerZs6dKS0sD2rZt26bk5GRJ0siRI9W/f/+A9ZmZmRo5cqRuvfXWWsd0Op1yOp3BKRgAAACwjABSjyZMmKBrr71W06dP1/Dhw7V27Vq99NJLeumllyRJcXFxiouLC3hPRESEWrVqpZSUlFCUDAAAAFjFKVj1qHv37iooKNDbb7+tjh07atq0aXrmmWf0b//2b6EuDQAAADgvOAy3H2lQvF6v3G63PB6PXC5XqMsBAKDB4C5YOFfsZwUXR0AAAAAAWEMAAQAAAGANAQQAAACANQQQAAAAANYQQAAAAABYQwABAAAAYA0BBAAAAIA1BBAAAAAA1hBAAAAAAFhDAAEAAABgDQEEAAAAgDUEEAAAAADWEEAAAAAAWEMAAQAAAGANAQQAAACANQQQAAAAANYQQAAAAABYQwABAAAAYA0BBAAAAIA1BBAAAAAA1hBAAAAAAFhDAAEAAABgDQEEAAAAgDUEEAAAAADWEEAAAAAAWEMAAQAAAGANAQQAAACANQQQAAAAANYQQOpZeXm57r77biUnJysqKkrXXnutiouLA/p88cUXGjJkiNxut5o1a6bu3btrz549IaoYAAAAsIcAUs9+97vfaenSpXrjjTe0efNmZWRkqH///tq3b58k6auvvlKvXr2UmpqqoqIibdq0SVOmTFHTpk1DXDkAAAAQfA5jjAl1EY3F999/r5iYGC1cuFBZWVn+9q5du2rgwIH6wx/+oN/+9reKiIjQG2+88ZN+htfrldvtlsfjkcvlqq/SAQBo9BwOR6hLQAPBflZwcQSkHp06dUrV1dU1jmZERUXp008/lc/n0/vvv68rrrhCmZmZSkhIUI8ePbRgwYLQFAwAAABYRgCpRzExMUpPT9e0adNUVlam6upqzZkzR6tXr9b+/ft16NAhHTt2TI8++qgGDBigjz76SDfccIOGDRumlStX1jpmZWWlvF5vwAIAAOrOGMPyExagvhFA6tkbb7whY4wuueQSOZ1OPffcc7rpppsUFhYmn88nSRo6dKgmTJigq666Svfee68GDRqkF154odbx8vPz5Xa7/Uvbtm1tTgcAAACoVwSQenbZZZdp5cqVOnbsmPbu3au1a9eqqqpKP/vZz9SyZUuFh4crLS0t4D0dOnQ4412w8vLy5PF4/MvevXttTAMAAAAIivBQF9BYNWvWTM2aNdPRo0e1ZMkSPf7444qMjFT37t1VWloa0Hfbtm1KTk6udRyn0ymn02mjZAAAACDoCCD1bMmSJTLGKCUlRTt27NCkSZOUmpqqW2+9VZI0adIk3Xjjjerdu7f69u2rwsJCLV68WEVFRaEtHAAAALCAU7DqmcfjUW5urlJTUzVq1Cj16tVLS5YsUUREhCTphhtu0AsvvKDHH39cnTp10iuvvKJ3331XvXr1CnHlAAAAQPDxHJAGhueAAAAAmy7E56ewnxVcHAEBAAAAYA0BBAAAAIA1BBAAAAAA1hBAAAAAAFhDAAEAAABgDQEEAAAAgDUEEAAAAADWEEAAAAAAWEMAAQAAAGANAQQAAACANQQQAAAAANYQQAAAAABYEx7qAgAAAHD+MsaEuoSzcjgcoS4BdcQREAAAAADWEEAAAAAAWEMAAQAAAGANAQQAAACANQQQAAAAANYQQAAAAABYQwABAAAAYA0BBAAAAIA1BBAAAAAA1vAkdAAAADRY9fmkdq/XK7fbXW/joXYcAQEAAABgDQEEAAAAgDUEEAAAAADWEEAAAAAAWEMAAQAAAGANAaQOVq1apcGDBysxMVEOh0MLFizwr6uqqtLkyZPVqVMnNWvWTImJiRo1apTKysoCxti2bZuGDh2qli1byuVyqVevXlqxYoXlmQAAAAChQQCpg4qKCnXp0kUzZ86sse748eMqKSnRlClTVFJSovnz56u0tFRDhgwJ6Ddo0CCdOnVKy5cv1/r169WlSxcNGjRIBw4csDUNAAAAIGQcpj5vnnwBcTgcKigoUHZ29hn7FBcX65prrtHu3buVlJSkw4cPKz4+XqtWrdIvfvELSVJ5eblcLpeWLl2q/v37/+jPPX1/ao/HI5fLVV/TAQAAuOCxn2UHR0CCyOPxyOFwqHnz5pKkuLg4paSk6PXXX1dFRYVOnTqlF198UQkJCeratWutY1RWVsrr9QYsAAAAQEPFk9CD5MSJE5o8ebJuuukmf4J2OBxatmyZsrOzFRMTo7CwMCUkJKiwsFAtWrSodZz8/HxNnTrVZukAAABA0HAEJAiqqqo0fPhwGWM0a9Ysf7sxRrm5uUpISNAnn3yitWvXKjs7W4MHD9b+/ftrHSsvL08ej8e/7N2719Y0AAAAgHrHEZB6djp87N69W8uXLw84f3D58uV67733dPToUX/7888/r6VLl+q1117TvffeW2M8p9Mpp9NprX4AAAAgmAgg9eh0+Ni+fbtWrFihuLi4gPXHjx+XJIWFBR54CgsLk8/ns1YnAAAAECoEkDo4duyYduzY4X+9a9cubdy4UbGxsWrdurV+/etfq6SkRO+9956qq6v9t9aNjY1VZGSk0tPT1aJFC+Xk5OjBBx9UVFSUXn75Ze3atUtZWVmhmhYAAABgDbfhrYOioiL17du3RntOTo4efvhhXXrppbW+b8WKFerTp48kad26dbr//vu1bt06VVVV6corr9SDDz6ogQMHnlMN3B4OAAAgONjPsoMA0sDwiwEAABAc7GfZwV2wAAAAAFhDAAEAAABgDQEEAAAAgDXcBQsAAAANlsPhCHUJqCOOgAAAAACwhgACAAAAwBoCCAAAAABrCCAAAAAArCGAAAAAALCGAAIAAADAGgIIAAAAAGsIIAAAAACsIYAAAAAAsIYnoQMAAOCMeNI46htHQAAAAABYQwABAAAAYA0BBAAAAIA1BBAAAAAA1hBAAAAAAFhDAAEAAABgDQEEAAAAgDUEEAAAAADWEEAAAAAAWEMAAQAAAGANAQQAAACANQQQAAAAANYQQAAAAABYQwCpg1WrVmnw4MFKTEyUw+HQggULavT54osvNGTIELndbjVr1kzdu3fXnj17/OtPnDih3NxcxcXF6aKLLtKvfvUrHTx40OIsAAAAgNAhgNRBRUWFunTpopkzZ9a6/quvvlKvXr2UmpqqoqIibdq0SVOmTFHTpk39fSZMmKDFixdr3rx5WrlypcrKyjRs2DBbUwAAAABCymGMMaEuoiFyOBwqKChQdna2v+23v/2tIiIi9MYbb9T6Ho/Ho/j4eL311lv69a9/LUn68ssv1aFDB61evVo///nPf/Tner1eud1ueTweuVyuepkLAADAmTgcjlCXYB37WcHFEZB64vP59P777+uKK65QZmamEhIS1KNHj4DTtNavX6+qqir179/f35aamqqkpCStXr06BFUDAAAAdhFA6smhQ4d07NgxPfrooxowYIA++ugj3XDDDRo2bJhWrlwpSTpw4IAiIyPVvHnzgPdefPHFOnDgQK3jVlZWyuv1BiwAAABAQxUe6gIaC5/PJ0kaOnSoJkyYIEm66qqr9Pe//10vvPCCrrvuup80bn5+vqZOnVpvdQIAcKG6EE8lAs5HHAGpJy1btlR4eLjS0tIC2jt06OC/C1arVq108uRJfffddwF9Dh48qFatWtU6bl5enjwej3/Zu3dvUOoHAAAAbCCA1JPIyEh1795dpaWlAe3btm1TcnKyJKlr166KiIjQxx9/7F9fWlqqPXv2KD09vdZxnU6nXC5XwAIAAAA0VJyCVQfHjh3Tjh07/K937dqljRs3KjY2VklJSZo0aZJuvPFG9e7dW3379lVhYaEWL16soqIiSZLb7dbo0aM1ceJExcbGyuVyady4cUpPTz+nO2ABAAAADR234a2DoqIi9e3bt0Z7Tk6OZs+eLUn6y1/+ovz8fH3zzTdKSUnR1KlTNXToUH/fEydO6J577tHbb7+tyspKZWZm6vnnnz/jKVj/jNvwAgDw03ANCM4V+1nBRQBpYAggAAD8NAQQnCv2s4KLa0AAAAAAWEMAAQAAAGANAQQAAACANQQQAAAAANYQQAAAAABYQwABAAAAYA0BBAAAAIA1BBAAAAAA1hBAAAAAAFhDAAEAAABgDQEEAAAAgDUEEAAAAADWEEAAAAAAWEMAAQAAAGANAQQAAACANQQQAAAAANYQQAAAAABYQwABAAAAYA0BBAAAAIA1BBAAAAAA1hBAAAAAAFhDAAEAAABgDQEEAAAAgDUEEAAAAADWEEAAAAAAWEMAAQAAAGANAQQAAACANQSQOli1apUGDx6sxMREORwOLViwIGD9wYMHdcsttygxMVHR0dEaMGCAtm/f7l9/5MgRjRs3TikpKYqKilJSUpLGjx8vj8djeSYAAABAaBBA6qCiokJdunTRzJkza6wzxig7O1s7d+7UwoULtWHDBiUnJ6t///6qqKiQJJWVlamsrEwzZszQli1bNHv2bBUWFmr06NG2pwIAAACEhMMYY0JdREPkcDhUUFCg7OxsSdK2bduUkpKiLVu26Morr5Qk+Xw+tWrVStOnT9fvfve7WseZN2+eRowYoYqKCoWHh//oz/V6vXK73fJ4PHK5XPU2HwAAGjuHwxHqEtBAsJ8VXBwBqSeVlZWSpKZNm/rbwsLC5HQ69emnn57xfac/4OcSPgAAAICGjgBST1JTU5WUlKS8vDwdPXpUJ0+e1GOPPaZvvvlG+/fvr/U9hw8f1rRp0zRmzJgzjltZWSmv1xuwAAAAAA0VAaSeREREaP78+dq2bZtiY2MVHR2tFStWaODAgQoLq7mZvV6vsrKylJaWpocffviM4+bn58vtdvuXtm3bBnEWAAAAQHBx3k896tq1qzZu3CiPx6OTJ08qPj5ePXr0ULdu3QL6lZeXa8CAAYqJiVFBQYEiIiLOOGZeXp4mTpzof+31egkhABoVzssHgAsLASQI3G63JGn79u1at26dpk2b5l/n9XqVmZkpp9OpRYsWBVwzUhun0ymn0xnUegEAAABbCCB1cOzYMe3YscP/eteuXdq4caNiY2OVlJSkefPmKT4+XklJSdq8ebPuuusuZWdnKyMjQ9IP4SMjI0PHjx/XnDlzAq7piI+PV5MmTUIyLwAAAMAWAkgdrFu3Tn379vW/Pn1qVE5OjmbPnq39+/dr4sSJOnjwoFq3bq1Ro0ZpypQp/v4lJSVas2aNJKl9+/YBY+/atUvt2rUL/iQAAACAEOI5IA0MzwEB0NhwDQiA8w37WcHFXbAAAAAAWEMAAQAAAGANAQQAAACANQQQAAAAANYQQAAAAABYQwABAAAAYA0BBAAAAIA1BBAAAAAA1hBAAAAAAFhDAAEAAABgDQEEAAAAgDUEEAAAAADWEEAAAAAAWEMAAQAAAGANAQQAAACANQQQAAAAANYQQAAAAABYQwABAAAAYA0BBAAAAIA1BBAAAAAA1hBAAAAAAFhDAAEAAABgDQEEAAAAgDUEEAAAAADWEEAAAAAAWEMAAQAAAGANAQQAAACANQQQAAAAANYQQM5Rfn6+unfvrpiYGCUkJCg7O1ulpaX+9UeOHNG4ceOUkpKiqKgoJSUlafz48fJ4PLWO97//+79q06aNHA6HvvvuO0uzAAAAAEKLAHKOVq5cqdzcXH322WdaunSpqqqqlJGRoYqKCklSWVmZysrKNGPGDG3ZskWzZ89WYWGhRo8eXet4o0ePVufOnW1OAQAAAAg5hzHGhLqIhujbb79VQkKCVq5cqd69e9faZ968eRoxYoQqKioUHh7ub581a5bmzp2rBx98UP369dPRo0fVvHnzc/q5Xq9XbrdbHo9HLperPqYCACHlcDhCXQIABGA/K7jCf7wLanP61KrY2Niz9nG5XAHhY+vWrXrkkUe0Zs0a7dy5M+h1AgAAAOcTAshP4PP5dPfdd6tnz57q2LFjrX0OHz6sadOmacyYMf62yspK3XTTTXriiSeUlJR0TgGksrJSlZWV/tder/f/PwEAAAAgRLgG5CfIzc3Vli1b9M4779S63uv1KisrS2lpaXr44Yf97Xl5eerQoYNGjBhxzj8rPz9fbrfbv7Rt2/b/Wz4AAAAQMlwDUkd33nmnFi5cqFWrVunSSy+tsb68vFyZmZmKjo7We++9p6ZNm/rXXXXVVdq8ebP/fGdjjHw+n5o0aaL7779fU6dOrTFebUdA2rZty7mJABoNrgEBcL5hPyu4OAXrHBljNG7cOBUUFKioqKjW8OH1epWZmSmn06lFixYFhA9Jevfdd/X999/7XxcXF+u2227TJ598ossuu6zWn+t0OuV0Out3MgAAAECIEEDOUW5urt566y0tXLhQMTExOnDggCTJ7XYrKipKXq9XGRkZOn78uObMmSOv1+u/XiM+Pl5NmjSpETIOHz4sSerQocM53wULAAAAaMgIIOdo1qxZkqQ+ffoEtL/66qu65ZZbVFJSojVr1kiS2rdvH9Bn165dateunY0yAQAAgPMa14A0MDwHBEBjwzUgAM437GcFF3fBAgAAAGANAQQAAACANQQQAAAAANYQQAAAAABYQwABAAAAYA0BBAAAAIA1BBAAAAAA1hBAAAAAAFhDAAEAAABgDQEEAAAAgDUEEAAAAADWEEAAAAAAWEMAAQAAAGANAQQAAACANQQQAAAAANYQQAAAAABYQwABAAAAYA0BBAAAAIA1BBAAAAAA1hBAAAAAAFhDAAEAAABgDQEEAAAAgDUEEAAAAADWEEAAAAAAWEMAAQAAAGANAQQAAACANQQQAAAAANYQQAAAAABYQwA5R/n5+erevbtiYmKUkJCg7OxslZaWBvTp06ePHA5HwDJ27NgaY82ePVudO3dW06ZNlZCQoNzcXFvTAAAAAEIqPNQFNBQrV65Ubm6uunfvrlOnTum+++5TRkaGtm7dqmbNmvn73X777XrkkUf8r6OjowPGeeqpp/Tkk0/qiSeeUI8ePVRRUaGvv/7a1jQAAACAkCKAnKPCwsKA17Nnz1ZCQoLWr1+v3r17+9ujo6PVqlWrWsc4evSoHnjgAS1evFj9+vXzt3fu3Dk4RQMAAADnGQLIT+TxeCRJsbGxAe1vvvmm5syZo1atWmnw4MGaMmWK/yjI0qVL5fP5tG/fPnXo0EHl5eW69tpr9eSTT6pt27a1/pzKykpVVlbW+LlerzcY0wIAALjgGWNCXUKjRgD5CXw+n+6++2717NlTHTt29LfffPPNSk5OVmJiojZt2qTJkyertLRU8+fPlyTt3LlTPp9P06dP17PPPiu3260HHnhA119/vTZt2qTIyMgaPys/P19Tp06t0X6mwAIAAID/n/Lycrnd7lCX0Wg5DBGvzu644w59+OGH+vTTT9WmTZsz9lu+fLn69eunHTt26LLLLtP06dN1//33a8mSJcrIyJAkffvtt2rVqpU++OADZWZm1hjjn4+AfPfdd0pOTtaePXv4xThHXq9Xbdu21d69e+VyuUJdToPANqs7tlndsc3qjm1Wd2yzuruQt5kxRuXl5UpMTFRYGPdqChaOgNTRnXfeqffee0+rVq06a/iQpB49ekiSP4C0bt1akpSWlubvEx8fr5YtW2rPnj21juF0OuV0Omu0u93uC+6Pwv+Xy+Vim9UR26zu2GZ1xzarO7ZZ3bHN6u5C3Wb8gzf4iHbnyBijO++8UwUFBVq+fLkuvfTSH33Pxo0bJckfPHr27ClJAbfvPXLkiA4fPqzk5OT6LxoAAAA4z3AE5Bzl5ubqrbfe0sKFCxUTE6MDBw5I+iElR0VF6auvvtJbb72lf/3Xf1VcXJw2bdqkCRMmqHfv3v67XF1xxRUaOnSo7rrrLr300ktyuVzKy8tTamqq+vbtG8rpAQAAAFZwBOQczZo1Sx6PR3369FHr1q39y9y5cyVJkZGRWrZsmTIyMpSamqp77rlHv/rVr7R48eKAcV5//XX16NFDWVlZuu666xQREaHCwkJFREScUx1Op1MPPfRQradloXZss7pjm9Ud26zu2GZ1xzarO7ZZ3bHNEGxchA4AAADAGo6AAAAAALCGAAIAAADAGgIIAAAAAGsIIAAAAACsIYA0MDNnzlS7du3UtGlT9ejRQ2vXrg11SeeNffv2acSIEYqLi1NUVJQ6deqkdevW1dp37NixcjgceuaZZ+wWGWKrVq3S4MGDlZiYKIfDoQULFvjXVVVVafLkyerUqZOaNWumxMREjRo1SmVlZQFjbNu2TUOHDlXLli3lcrnUq1cvrVixwvJM7DnbNpOkgwcP6pZbblFiYqKio6M1YMAAbd++3b/+yJEjGjdunFJSUhQVFaWkpCSNHz9eHo/H8kzsyM/PV/fu3RUTE6OEhARlZ2cHPPtIkvr06SOHwxGwjB07tsZYs2fPVufOndW0aVMlJCQoNzfX1jSsmjVrljp37ux/6Ft6ero+/PBDSef++dmzZ4+ysrIUHR2thIQETZo0SadOnQrFdKw42zaTpAMHDmjkyJFq1aqVmjVrpn/5l3/Ru+++W+tYlZWVuuqqq+RwOPzP77oQPProo3I4HLr77rtrrDPGaODAgbX+zSsuLla/fv3UvHlztWjRQpmZmfqf//kfO0Wj0SCANCBz587VxIkT9dBDD6mkpERdunRRZmamDh06FOrSQu7o0aPq2bOnIiIi9OGHH2rr1q168skn1aJFixp9CwoK9NlnnykxMTEElYZWRUWFunTpopkzZ9ZYd/z4cZWUlGjKlCkqKSnR/PnzVVpaqiFDhgT0GzRokE6dOqXly5dr/fr16tKliwYNGuR/Nk5jc7ZtZoxRdna2du7cqYULF2rDhg1KTk5W//79VVFRIUkqKytTWVmZZsyYoS1btmj27NkqLCzU6NGjbU/FipUrVyo3N1efffaZli5dqqqqKmVkZPi3x2m333679u/f718ef/zxgPVPPfWU7r//ft177736/PPPtWzZMmVmZtqcijVt2rTRo48+qvXr12vdunX65S9/qaFDh+rzzz8/p89PdXW1srKydPLkSf3973/Xa6+9ptmzZ+vBBx8M4ayC62zbTJJGjRql0tJSLVq0SJs3b9awYcM0fPhwbdiwocZY//mf/3nBfR8UFxfrxRdf9D+n7J8988wzcjgcNdqPHTumAQMGKCkpSWvWrNGnn36qmJgYZWZmqqqqKthlozExaDCuueYak5ub639dXV1tEhMTTX5+fgirOj9MnjzZ9OrV60f7ffPNN+aSSy4xW7ZsMcnJyebpp58OfnHnKUmmoKDgrH3Wrl1rJJndu3cbY4z59ttvjSSzatUqfx+v12skmaVLlwaz3PPCP2+z0tJSI8ls2bLF31ZdXW3i4+PNyy+/fMZx/vrXv5rIyEhTVVUVzHLPC4cOHTKSzMqVK/1t1113nbnrrrvO+J4jR46YqKgos2zZMgsVnp9atGhhXnnllVrX/fPn54MPPjBhYWHmwIED/j6zZs0yLpfLVFZWWqn3fPCP26xZs2bm9ddfD1gfGxtb4/fygw8+MKmpqebzzz83ksyGDRtslRsy5eXl5vLLLzdLly6t9Xdxw4YN5pJLLjH79++v8TevuLjYSDJ79uzxt23atMlIMtu3b7c0AzQGHAFpIE6ePKn169erf//+/rawsDD1799fq1evDmFl54dFixapW7du+s1vfqOEhARdffXVevnllwP6+Hw+jRw5UpMmTdKVV14ZokobFo/HI4fDoebNm0uS4uLilJKSotdff10VFRU6deqUXnzxRSUkJKhr166hLTYEKisrJUlNmzb1t4WFhcnpdOrTTz894/s8Ho9cLpfCw8ODXmOonT5VKDY2NqD9zTffVMuWLdWxY0fl5eXp+PHj/nVLly6Vz+fTvn371KFDB7Vp00bDhw/X3r17rdYeCtXV1XrnnXdUUVGh9PT0Wvv88+dn9erV6tSpky6++GJ/n8zMTHm9Xv8Rgcastm127bXXau7cuTpy5Ih8Pp/eeecdnThxQn369PG/7+DBg7r99tv1xhtvKDo6OkTV25ebm6usrKyA/YnTjh8/rptvvlkzZ85Uq1ataqxPSUlRXFyc/vznP+vkyZP6/vvv9ec//1kdOnRQu3btLFSPxqLxf/s1EocPH1Z1dXXAF4wkXXzxxfryyy9DVNX5Y+fOnZo1a5YmTpyo++67T8XFxRo/frwiIyOVk5MjSXrssccUHh6u8ePHh7jahuHEiROaPHmybrrpJrlcLkmSw+HQsmXLlJ2drZiYGIWFhSkhIUGFhYW1nu7W2KWmpiopKUl5eXl68cUX1axZMz399NP65ptvtH///lrfc/jwYU2bNk1jxoyxXK19Pp9Pd999t3r27KmOHTv622+++WYlJycrMTFRmzZt0uTJk1VaWqr58+dL+uH32efzafr06Xr22Wfldrv1wAMP6Prrr9emTZsUGRkZqikFzebNm5Wenq4TJ07ooosuUkFBgdLS0mr0q+3zc+DAgVq/G06va6zOts3++te/6sYbb1RcXJzCw8MVHR2tgoICtW/fXtIPp0/ecsstGjt2rLp166avv/46hDOx55133lFJSYmKi4trXT9hwgRde+21Gjp0aK3rY2JiVFRUpOzsbE2bNk2SdPnll2vJkiUXxD9UUH/4tKBR8Pl86tatm6ZPny5Juvrqq7Vlyxa98MILysnJ0fr16/Xss8+qpKSk1vNaEaiqqkrDhw+XMUazZs3ytxtjlJubq4SEBH3yySeKiorSK6+8osGDB6u4uFitW7cOYdX2RUREaP78+Ro9erRiY2PVpEkT9e/fXwMHDpQxpkZ/r9errKwspaWl6eGHH7ZfsGW5ubnasmVLjaNB/7jz3KlTJ7Vu3Vr9+vXTV199pcsuu0w+n09VVVV67rnnlJGRIUl6++231apVK61YsaJRXguSkpKijRs3yuPx6G9/+5tycnK0cuXKgBByoX1+fszZttmUKVP03XffadmyZWrZsqUWLFig4cOH65NPPlGnTp30pz/9SeXl5crLywv1NKzZu3ev7rrrLi1dujTgqO1pixYt0vLly2u9Tua077//XqNHj1bPnj319ttvq7q6WjNmzFBWVpaKi4sVFRUVzCmgMQntGWA4V5WVlaZJkyY1ztkfNWqUGTJkSGiKOo8kJSWZ0aNHB7Q9//zzJjEx0RhjzNNPP20cDodp0qSJf5FkwsLCTHJycggqDj2d4RqQkydPmuzsbNO5c2dz+PDhgHXLli0zYWFhxuPxBLS3b9/+grgW6UzbzBhjvvvuO3Po0CFjzA/Xa/37v/97wHqv12vS09NNv379zPfffx/sUkMuNzfXtGnTxuzcufNH+x47dsxIMoWFhcYYY/7yl78YSWbv3r0B/RISEsxLL70UlHrPN/369TNjxozxvz7b52fKlCmmS5cuAW07d+40kkxJSYmNcs8Lp7fZjh07alybdXr973//e2OMMUOHDjVhYWE1vhOaNGliRo0aFYryg66goMA/x3+c8+nvxjvvvPOM35PXXXedMcaYV155xSQkJJjq6mr/uJWVlSY6Otq8/fbbIZoZGiKOgDQQkZGR6tq1qz7++GNlZ2dL+uG//h9//LHuvPPO0BZ3HujZs2eNW31u27ZNycnJkqSRI0fWON81MzNTI0eO1K233mqtzvPd6SMf27dv14oVKxQXFxew/vR5+mFhgZePhYWFyefzWavzfOR2uyVJ27dv17p16/ynJ0g//Oc6MzNTTqdTixYtqvW/j42FMUbjxo1TQUGBioqKdOmll/7oe07f+vT0EbSePXtKkkpLS9WmTRtJP9yO9vDhw/7f6cbO5/P5rzH6sc9Penq6/vjHP+rQoUNKSEiQ9MN1NC6Xq9bTuBqr09vsTH+nmjRp4v879dxzz+kPf/iDf11ZWZkyMzM1d+5c9ejRw17RFvXr10+bN28OaLv11luVmpqqyZMnq2XLlvr9738fsL5Tp056+umnNXjwYEk/fAeEhYUFnElw+vWF/h2AOgp1AsK5e+edd4zT6TSzZ882W7duNWPGjDHNmzcPuPPJhWrt2rUmPDzc/PGPfzTbt283b775pomOjjZz5sw543suxLtglZeXmw0bNpgNGzYYSeapp54yGzZsMLt37zYnT540Q4YMMW3atDEbN240+/fv9y+n76Tz7bffmri4ODNs2DCzceNGU1paav7jP/7DREREmI0bN4Z4dsFxtm1mzA93JFqxYoX56quvzIIFC0xycrIZNmyY//0ej8f06NHDdOrUyezYsSNgu546dSpU0wqaO+64w7jdblNUVBQw1+PHjxtjjNmxY4d55JFHzLp168yuXbvMwoULzc9+9jPTu3fvgHGGDh1qrrzySvPf//3fZvPmzWbQoEEmLS3NnDx5MhTTCqp7773XrFy50uzatcts2rTJ3HvvvcbhcJiPPvronD4/p06dMh07djQZGRlm48aNprCw0MTHx5u8vLwQzyx4zrbNTp48adq3b29+8YtfmDVr1pgdO3aYGTNmGIfDYd5///1ax9u1a9cFcxesf/Rjd6TTPx31/eKLL4zT6TR33HGH2bp1q9myZYsZMWKEcbvdpqysLPgFo9EggDQwf/rTn0xSUpKJjIw011xzjfnss89CXdJ5Y/HixaZjx47G6XSa1NTUHz1V40IMICtWrDCSaiw5OTn+L+DalhUrVvjHKC4uNhkZGSY2NtbExMSYn//85+aDDz4I3aSC7GzbzBhjnn32WdOmTRsTERFhkpKSzAMPPBBw69MzvV+S2bVrV2gmFURnmuurr75qjDFmz549pnfv3iY2NtY4nU7Tvn17M2nSpBqn9Xk8HnPbbbeZ5s2bm9jYWHPDDTcE3PqzMbnttttMcnKyiYyMNPHx8aZfv37mo48+Msac++fn66+/NgMHDjRRUVGmZcuW5p577mnUt3k+2zYzxpht27aZYcOGmYSEBBMdHW06d+5c47a8/4gAUrt/DiDGGPPRRx+Znj17GrfbbVq0aGF++ctfmtWrVwe3UDQ6DmNquVISAAAAAIKA54AAAAAAsIYAAgAAAMAaAggAAAAAawggAAAAAKwhgAAAAACwhgACAAAAwBoCCAAAAABrCCAAAAAArCGAAAAAALCGAAIAAADAGgIIAAAAAGsIIAAAAACsIYAAAAAAsIYAAgAAAMAaAggAAAAAawggAAAAAKwhgAAAAACwhgACAAAAwBoCCAAAAABrCCAAAAAArCGAAAAAALCGAAIAAADAmv8DSs3qydmjEboAAAAASUVORK5CYII=' width=800.0/>\n",
       "            </div>\n",
       "        "
      ],
      "text/plain": [
       "Canvas(toolbar=Toolbar(toolitems=[('Home', 'Reset original view', 'home', 'home'), ('Back', 'Back to previous …"
      ]
     },
     "metadata": {},
     "output_type": "display_data"
    }
   ],
   "source": [
    "Y0, Y1, Y2, Y3, X4 = py4enc(X, h)\n",
    "fig, ax = plt.subplots(figsize=(8, 4))\n",
    "plot_image(beside(Y0, beside(Y1, beside(Y2, beside(Y3, X4)))), ax=ax);"
   ]
  },
  {
   "attachments": {},
   "cell_type": "markdown",
   "metadata": {},
   "source": [
    "If we wish to see the images separately from each other, instead of using our `beside` function that was written to match the old Matlab version, we can draw this directly with `matplotlib` using [`plt.subplots`](https://matplotlib.org/stable/api/_as_gen/matplotlib.pyplot.subplots.html) to create a set of subplots, and the `width_ratios` argument to [`GridSpec`](https://matplotlib.org/stable/api/_as_gen/matplotlib.gridspec.GridSpec.html):"
   ]
  },
  {
   "cell_type": "code",
   "execution_count": 15,
   "metadata": {},
   "outputs": [
    {
     "data": {
      "application/vnd.jupyter.widget-view+json": {
       "model_id": "421203debb49478dbab72006dde5eda6",
       "version_major": 2,
       "version_minor": 0
      },
      "image/png": "[encoded data removed]",
      "text/html": [
       "\n",
       "            <div style=\"display: inline-block;\">\n",
       "                <div class=\"jupyter-widgets widget-label\" style=\"text-align: center;\">\n",
       "                    Figure\n",
       "                </div>\n",
       "                <img src='data:image/png;base64,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' width=800.0/>\n",
       "            </div>\n",
       "        "
      ],
      "text/plain": [
       "Canvas(toolbar=Toolbar(toolitems=[('Home', 'Reset original view', 'home', 'home'), ('Back', 'Back to previous …"
      ]
     },
     "metadata": {},
     "output_type": "display_data"
    }
   ],
   "source": [
    "titles = [\"Y_0\", \"Y_1\", \"Y_2\", \"Y_3\", \"X_4\"]\n",
    "imgs = [Y0, Y1, Y2, Y3, X4]\n",
    "fig, axs = plt.subplots(1, 5, figsize=(8, 4),\n",
    "                        gridspec_kw=dict(width_ratios=[img.shape[0] for img in imgs]))\n",
    "\n",
    "for ax, img, title in zip(axs, imgs, titles):\n",
    "    plot_image(img, ax=ax)\n",
    "    ax.set(yticks=[], title=f'${title}$')"
   ]
  },
  {
   "attachments": {},
   "cell_type": "markdown",
   "metadata": {},
   "source": [
    "If we wish to see the images at the same scale as each other, we can use:"
   ]
  },
  {
   "cell_type": "code",
   "execution_count": 16,
   "metadata": {},
   "outputs": [
    {
     "data": {
      "application/vnd.jupyter.widget-view+json": {
       "model_id": "b929987a6d424964982c7c1575515197",
       "version_major": 2,
       "version_minor": 0
      },
      "image/png": "[encoded data removed]",
      "text/html": [
       "\n",
       "            <div style=\"display: inline-block;\">\n",
       "                <div class=\"jupyter-widgets widget-label\" style=\"text-align: center;\">\n",
       "                    Figure\n",
       "                </div>\n",
       "                <img src='data:image/png;base64,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' width=800.0/>\n",
       "            </div>\n",
       "        "
      ],
      "text/plain": [
       "Canvas(toolbar=Toolbar(toolitems=[('Home', 'Reset original view', 'home', 'home'), ('Back', 'Back to previous …"
      ]
     },
     "metadata": {},
     "output_type": "display_data"
    }
   ],
   "source": [
    "titles = [\"Y_0\", \"Y_1\", \"Y_2\", \"Y_3\", \"X_4\"]\n",
    "imgs = [Y0, Y1, Y2, Y3, X4]\n",
    "fig, axs = plt.subplots(1, 5, figsize=(8, 2))\n",
    "\n",
    "for ax, img, title in zip(axs, imgs, titles):\n",
    "    plot_image(img, ax=ax)\n",
    "    ax.set(yticks=[], title=f'${title}$')"
   ]
  },
  {
   "attachments": {},
   "cell_type": "markdown",
   "metadata": {},
   "source": [
    "Get a demonstrator to check that your images look correct, and\n",
    "then write another function `py4dec` to decode `X4` and\n",
    "`Y3 Y2 Y1 Y0` into a set of lowpass images `Z3 Z2 Z1 Z0`.\n",
    "(`Z3` is obtained by interpolating `X4` and adding\n",
    "`Y3`, and then `Z2` is obtained from `Z3` and `Y2`, and\n",
    "so on.)"
   ]
  },
  {
   "cell_type": "code",
   "execution_count": 18,
   "metadata": {},
   "outputs": [],
   "source": [
    "def py4dec(Y0, Y1, Y2, Y3, X4, h):\n",
    "    # your code here\n",
    "    warnings.warn(\"you need to write this!\")\n",
    "\n",
    "    # remove these lines when implementing your code - they are here to show you what shape the plots below should be\n",
    "    Z0 = np.full(Y0.shape, np.nan)\n",
    "    Z1 = np.full(Y0.shape >> np.int_(1), np.nan)\n",
    "    Z2 = np.full(Y0.shape >> np.int_(2), np.nan)\n",
    "    Z3 = np.full(Y0.shape >> np.int_(3), np.nan)\n",
    "\n",
    "    return Z3, Z2, Z1, Z0"
   ]
  },
  {
   "attachments": {},
   "cell_type": "markdown",
   "metadata": {},
   "source": [
    "If all is correct, `Z0` should be identical to\n",
    "`X`.  You can check that your function is correct by calculating `np.max(abs(X - Z0))` and also displaying your pyramid of decoded images, `Z3` to `Z0`."
   ]
  },
  {
   "cell_type": "code",
   "execution_count": 19,
   "metadata": {},
   "outputs": [
    {
     "name": "stdout",
     "output_type": "stream",
     "text": [
      "Encode-Decode Error = nan\n"
     ]
    },
    {
     "name": "stderr",
     "output_type": "stream",
     "text": [
      "/tmp/ipykernel_21447/476608119.py:3: UserWarning: you need to write this!\n",
      "  warnings.warn(\"you need to write this!\")\n"
     ]
    }
   ],
   "source": [
    "h = 0.25*np.array([1, 2, 1])\n",
    "Z3, Z2, Z1, Z0 = py4dec(Y0, Y1, Y2, Y3, X4, h)\n",
    "encode_decode_err = np.max(np.abs(X - Z0))\n",
    "print(f'Encode-Decode Error = {encode_decode_err}')\n",
    "\n",
    "# your code here to plot the images"
   ]
  },
  {
   "attachments": {},
   "cell_type": "markdown",
   "metadata": {},
   "source": [
    "For further information on the Laplacian Pyramid see Burt and Adelson [IEEE Trans. on Communications, 1983, vol 31, no 4, pp 532-540, \"The Laplacian Pyramid as a compact image code\"]."
   ]
  },
  {
   "attachments": {},
   "cell_type": "markdown",
   "metadata": {},
   "source": [
    "## 6.2 Quantisation and Coding Efficiency\n",
    "To see whether data compression is possible using the above pyramid decomposition, we must calculate the approximate number of bits required to code the image pyramid. This may be done using the *entropy* of the quantised image data. \n",
    "\n",
    "The entropy of a single data sample, whcih may randomly take one of $Q$ possible quantised values such that each value $q(i)$ has a probability $p(i)$ of being in state $i$ for $i=1\\to Q$ is given by:\n",
    "\n",
    "$$ \\text{Entropy (bits/sample)} = \\sum_{i=1}^Qp(i) \\log_2\\frac{1}{p(i)} = -\\sum_{i=1}^Q p(i) \\log_2p(i)$$\n",
    "\n",
    "The entropy represents the minimum average number of bits per sample needed to code samples with the given probability distribution $p(i)$, assuming that an ideal variable-length entropy code is used, and that the samples are uncorrelated with each other. Arithmetic codes can get arbitrarily close to this bit rate, and simpler Huffman codes can also get vary close with many typical signals (you will be using Huffman codes later on). It is possible to code signals at bit rates less than the entropy, if the samples are correlated, but for simplicity we shall ignore this here.\n",
    "\n",
    "To demonstrate the validity of the above formula, first consider a signal with 8 quantised values of equal probability $p(i) = 1/8$ for all $i$. The entropy is then $8 \\times 1/8 \\times \\log_2(8) = 3$ bits per sample, as expected. \n",
    "\n",
    "Now consider a signal with only 3 values, with probabilities $p(1)=1/2$,  $p(2) = p(3) = 1/4$. The entropy is then $\\frac{1}{2} \\log_2(2) + 2 \\times \\frac{1}{4} \\log_2(4) = 1.5$ bits per sample. This is consistent with using a single bit '0' to represent state 1 and two bits, '10' and '11' to represent states 2 and 3.\n",
    "\n",
    "The function `bpp` has been written to calculate the entropy in bits per pixel of an image matrix `X`. First the function computes a histogram of `X` to determine the probabilities $p(i)$ and then it calculates the entropy, using the above formula."
   ]
  },
  {
   "cell_type": "code",
   "execution_count": 21,
   "metadata": {},
   "outputs": [],
   "source": [
    "from cued_sf2_lab.laplacian_pyramid import bpp"
   ]
  },
  {
   "attachments": {},
   "cell_type": "markdown",
   "metadata": {},
   "source": [
    "In the Laplacian Pyramid, the total number of bits is obtained by multiplying each of the sub-image entropies by the number of pixels in each corresponding sub-image. However, in order to compress the data, we also need to quantise the images. We have also provided a function `quantise` which will quantise `X` in steps centred on integer multiples of `step`. Hence `bpp(quantise(X, step))` will return the entropy of image `X` quantised in steps of `step`."
   ]
  },
  {
   "cell_type": "code",
   "execution_count": 22,
   "metadata": {},
   "outputs": [],
   "source": [
    "from cued_sf2_lab.laplacian_pyramid import quantise"
   ]
  },
  {
   "attachments": {},
   "cell_type": "markdown",
   "metadata": {},
   "source": [
    "<div class=\"alert alert-block alert-danger\">\n",
    "\n",
    "Calculate the entropies of images `X` `X1` `Y0` and hence the total numbers of bits to encode `X`, or `X1` and `Y0`, when quantised to a step size of 17 (which gives 15 distict grey levels if applied to a lowpass image with intensities from -127 to 127. Find the data compression for this simple one-stage pyramid, and then investigate the improvements from using more layers.\n",
    "</div>"
   ]
  },
  {
   "cell_type": "code",
   "execution_count": 24,
   "metadata": {},
   "outputs": [],
   "source": [
    "# Write your code to calculate compression ratios here."
   ]
  },
  {
   "attachments": {},
   "cell_type": "markdown",
   "metadata": {},
   "source": [
    "Since compressing an image will generally result in a reduction in quality, we also need a way to measure this quality reduction. It is actually quite hard to find a quality measure whcih matches individual perceptions of how an image has been changed due to compression, and for that reason it is important to always judge and comment on an image visually. However we also need a quantitative measure, and the most obvious is the rms error (standard deviation) between the input and compressed image (i.e. using ```np.std(X - Z)``` where `Z` is the compressed image).\n",
    "\n",
    "<div class=\"alert alert-block alert-danger\">\n",
    "Quantise the Laplacian pyramid with a step size of 17, and reconstruct the output image from the decoding pyramid. Look at the visual features, and calculate the rms error (standard deviation) between the input image and the decoding pyramid output image. Repeat this for more layers in the pyramid.\n",
    "</div>"
   ]
  },
  {
   "cell_type": "code",
   "execution_count": 26,
   "metadata": {},
   "outputs": [],
   "source": [
    "# Write your code to explore rms error with the laplacian pyramid here."
   ]
  },
  {
   "attachments": {},
   "cell_type": "markdown",
   "metadata": {},
   "source": [
    "Note that we call this error the rms error, but in fact we calculate the standard deviation, which only equals the true rms error if the mean error is zero. However the eye is very insensitive to small errors in the mean level of images, so the standard deviation (which ignores the mean) is a better measure of image quality. \n",
    "\n",
    "<div class=\"alert alert-block alert-danger\">\n",
    "Quantise the original image with the same step size (17) and note the visual features and rms error. Compare these results from the pyramid scheme above. Why are the rms errors larger in the pyramid scheme? \n",
    "</div>"
   ]
  },
  {
   "cell_type": "code",
   "execution_count": 28,
   "metadata": {},
   "outputs": [],
   "source": [
    "# Write your code to calculate the error from directly quantising the original\n",
    "# image."
   ]
  },
  {
   "attachments": {},
   "cell_type": "markdown",
   "metadata": {},
   "source": [
    "Comparisons of the number of bits with different coding strategies are only valid if they result in approximately the same image quantisation error. Write a function which will optimise the step size (resulting in a non-integer value) in the Laplacian scheme until the rms error is the same as for direct quantisation; you will find this optimisation useful for later investigations too.\n",
    "<div class=\"alert alert-block alert-danger\">\n",
    "Investigate what step size of the quantisers for the pyramid scheme you need, in order to get approximately the same error as for direct quantisation at a step size of 17.\n",
    "</div>"
   ]
  },
  {
   "cell_type": "code",
   "execution_count": 30,
   "metadata": {},
   "outputs": [],
   "source": [
    "# Write your optimisation and step size selection here"
   ]
  },
  {
   "attachments": {},
   "cell_type": "markdown",
   "metadata": {},
   "source": [
    "In many of your results from now on you will need to expres the performance of your algorithms in terms of *compression ratio*, which is normally defined as:\n",
    "\n",
    "$$ \\text{Compression Ratio} = \\frac{\\text{Total bits for reference scheme}}{\\text{Total bits for compressed scheme}} $$\n",
    "\n",
    "Usually the *reference* scheme is the direct pixel quantisation method with its quantiser adjusted to give the same rms error as the scheme being evaluated (the *compressed* scheme). For good schemes we try to make the compression ratio as large as possible.\n",
    "\n",
    "We now investigate the effect of using different step sizes for the different levels of the pyramid. There are many schemes for varying the step sizes between different levels: in this project we shall look at the *equal MSE* criterion. In the *equal MSE* scheme, step sizes are chosen such that quantisers in each layer contribute equally to the Mean Squared Error of the reconstructed image. In general the step sizes will depend on the image signal being coded. However this can be achieved approximately by choosing a separate step size for each layer such that:\n",
    "* A single impulse of that step size will give a filtered pulse in the reconstructed image which has the same energy, whichever layer of the decoder the impulse excites."
   ]
  },
  {
   "attachments": {},
   "cell_type": "markdown",
   "metadata": {},
   "source": [
    "### Impulse Response Measurement\n",
    "Investigate the effect of a single impulse in a particular layer (e.g. **Y0,Y1** etc.) as it appears in the reconstructed image **Z0**. This can be done by first generating a test pyramid image, which is zero everywhere. Then place an impulse (e.g. of amplitude 100) in the centre of one layer, reconstruct the entire pyramid to give **Z0**, then measure the total energy of **Z0**. If this is repeated for each layer, you will have measured how much energy a fixed size impulse at each layer contributes to the decoded image.\n",
    "\n",
    "We actually want to arrange for the impulse sizes to vary and the energy to stay the same. Therefore the impulse sizes (and hence chosen quantisation steps) we require in each level will be inversely proportional to the square root of the energies measured above. The important result is the *ratio* of the step sizes between layers. If this ratio is maintained for any overall quantiser scaling, we will get an (approximately) *equal MSE* scheme."
   ]
  },
  {
   "attachments": {},
   "cell_type": "markdown",
   "metadata": {},
   "source": [
    "<div class=\"alert alert-block alert-danger\">\n",
    "Find new values for the data compression achievable when all schemes (i.e. constant step size or equal MSE, both with varying layer depth) produce the same rms error between the decoded image and the original image. Comment on the differences in compression, visual quality and rms error, and the optimum choice of layer depth in each case.\n",
    "</div>"
   ]
  },
  {
   "cell_type": "code",
   "execution_count": 31,
   "metadata": {},
   "outputs": [],
   "source": [
    "# Find the compression ratios for constant step sizes "
   ]
  },
  {
   "cell_type": "code",
   "execution_count": 32,
   "metadata": {},
   "outputs": [],
   "source": [
    "# Find the step size ratios for equal MSE"
   ]
  },
  {
   "cell_type": "code",
   "execution_count": 33,
   "metadata": {},
   "outputs": [],
   "source": [
    "# Find the quantisation step size for equal mse, matching the reference RMS error"
   ]
  },
  {
   "cell_type": "code",
   "execution_count": 34,
   "metadata": {},
   "outputs": [],
   "source": [
    "# Find the compression ratios for equal mse"
   ]
  },
  {
   "attachments": {},
   "cell_type": "markdown",
   "metadata": {},
   "source": [
    "## 6.3 Changing the decimation / interpolation filter\n",
    "It is also worth investigating whether a more complicated decimation / interpolation filter **h** can improve the compression. The z-transfer function of the filter used so far is\n",
    "\n",
    "$$ h(z) = \\left(\\frac{1 + z^{-1}}{2}\\right)^m $$\n",
    "\n",
    "where $m = 2$. If $m$ is increased to 4(so the number of taps remains odd), the vector representation of **h** is \\[1/16 4/16 6/16 4/16 1/16\\]. This filter has a lower cut-off frequency than when $m=2$, so you should find that each interpolated lowpass image in the pyramid is a little more blurred, and there is a little more energy left in each highpass image.\n",
    "\n",
    "<div class=\"alert alert-block alert-danger\">\n",
    "Optimise the step sizes for the pyramid with this new filter and determine the new compression performance and visual features.\n",
    "</div>"
   ]
  },
  {
   "cell_type": "code",
   "execution_count": 44,
   "metadata": {},
   "outputs": [],
   "source": [
    "# Repeat the previous experiments with a new h here\n",
    "h = np.array([1, 4, 6, 4, 1]) / 16.0"
   ]
  },
  {
   "attachments": {},
   "cell_type": "markdown",
   "metadata": {},
   "source": [
    "# First Interim Report\n",
    "Discuss and explain your results, gathered so far, in your first interim report. Try to answer the questions posed in the above test. Be brief where things are straightforward, but pay more attention to detail in areas where you think something interesting is happening. Write this as a standalone report, not as a series of bullet points answering the questions posed."
   ]
  }
 ],
 "metadata": {
  "kernelspec": {
   "display_name": "Python 3",
   "language": "python",
   "name": "python3"
  },
  "language_info": {
   "codemirror_mode": {
    "name": "ipython",
    "version": 3
   },
   "file_extension": ".py",
   "mimetype": "text/x-python",
   "name": "python",
   "nbconvert_exporter": "python",
   "pygments_lexer": "ipython3",
   "version": "3.10.4"
  }
 },
 "nbformat": 4,
 "nbformat_minor": 2
}
